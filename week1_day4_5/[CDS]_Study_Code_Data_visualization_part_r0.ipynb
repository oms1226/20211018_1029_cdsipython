{
 "cells": [
  {
   "cell_type": "markdown",
   "metadata": {
    "id": "zAdQt-ygpTAN"
   },
   "source": [
    "## [Theme 1] Matplotlib\n",
    "    - subplot (Figure 분할)\n",
    "      * Exercise\n",
    "    - wordcloud"
   ]
  },
  {
   "cell_type": "code",
   "execution_count": null,
   "metadata": {
    "id": "f8cBIHoHpTAP"
   },
   "outputs": [],
   "source": [
    "# 시각화 진행을 위한 Library Call\n",
    "import matplotlib.pyplot as plt\n",
    "import numpy as np"
   ]
  },
  {
   "cell_type": "markdown",
   "metadata": {
    "id": "j7S75RgtK3Ef"
   },
   "source": [
    "# (Exercise) Mathplotlib을 이용한 시각화 (Figure 분할) - Question 2개"
   ]
  },
  {
   "cell_type": "code",
   "execution_count": null,
   "metadata": {
    "colab": {
     "base_uri": "https://localhost:8080/",
     "height": 35
    },
    "id": "XlKXgKFLpTAr",
    "outputId": "ec78020c-190e-4cd9-d19e-1f5f3c89185b"
   },
   "outputs": [],
   "source": [
    "# subplot Question 1\n",
    "# names : group_a, group_b, group_c\n",
    "# values : 1, 10, 100\n",
    "# To-do 1 (변수 설정)\n",
    "\n",
    "plt.figure(1, figsize=(9,3))\n",
    "\n",
    "# To-do 2 (bar plot)\n",
    "# position(1,3,1)\n",
    "# x(names), y(values)\n",
    "\n",
    "\n",
    "# To-do 3 (Scatter plot)\n",
    "# position(1,3,2)\n",
    "# x(names), y(values)\n",
    "\n",
    "\n",
    "# To-do 4 (plot)\n",
    "# position(1,3,3)\n",
    "# x(names), y(values)\n",
    "\n",
    "\n",
    "plt.suptitle('Categorical Plotting')\n",
    "plt.show()"
   ]
  },
  {
   "cell_type": "code",
   "execution_count": null,
   "metadata": {
    "colab": {
     "base_uri": "https://localhost:8080/",
     "height": 35
    },
    "id": "BxuOX4cPpHZS",
    "outputId": "affb9e24-36ba-4065-9ec6-40241e20a063"
   },
   "outputs": [],
   "source": [
    "# subplot Question 2\n",
    "# names : group_a, group_b, group_c, group_d\n",
    "# values : 50, 100, 200, 350\n",
    "# To-do 1 (변수 설정)\n",
    "\n",
    "plt.figure(1, figsize=(15,10))\n",
    "\n",
    "# To-do 2 (bar plot)\n",
    "# position(2,2,1)\n",
    "# x(names), y(values)\n",
    "\n",
    "\n",
    "# To-do 3 (Scatter plot)\n",
    "# position(2,2,2)\n",
    "# x(names), y(values)\n",
    "\n",
    "\n",
    "# To-do 4 (plot)\n",
    "# position(2,2,3)\n",
    "# x(names), y(values)\n",
    "\n",
    "\n",
    "# To-do 5 (barh plot)\n",
    "# position(2,2,4)\n",
    "# x(names), y(values)\n",
    "\n",
    "\n",
    "plt.suptitle('Categorical Plotting')\n",
    "plt.show()"
   ]
  },
  {
   "cell_type": "markdown",
   "metadata": {
    "id": "1jet2dzdKVyi"
   },
   "source": [
    "# (Example) Mathplotlib을 이용한 시각화 (Word Cloud)\n",
    "\n"
   ]
  },
  {
   "cell_type": "markdown",
   "metadata": {
    "id": "94AIpbIhuo75"
   },
   "source": [
    "Word Cloud : word가 발생한 빈도수를 기반으로 해주는 시각화"
   ]
  },
  {
   "cell_type": "code",
   "execution_count": null,
   "metadata": {},
   "outputs": [],
   "source": [
    "!pip install wordcloud"
   ]
  },
  {
   "cell_type": "code",
   "execution_count": null,
   "metadata": {
    "colab": {
     "base_uri": "https://localhost:8080/",
     "height": 575
    },
    "id": "P5PXMMSwKV_z",
    "outputId": "183c5c27-627d-4b61-96c5-8d6b1152cc29"
   },
   "outputs": [],
   "source": [
    "from wordcloud import WordCloud\n",
    "import matplotlib.pyplot as plt\n",
    " \n",
    "# 예시 text\n",
    "text=(\"Python Python Python Matplotlib Matplotlib Seaborn Network Plot Violin Chart Pandas Datascience Wordcloud Spider Radar Parrallel Alpha Color Brewer Density Scatter Barplot Barplot Boxplot Violinplot Treemap Stacked Area Chart Chart Visualization Dataviz Donut Pie Time-Series Wordcloud Wordcloud Sankey Bubble\")\n",
    " \n",
    "# word cloud 생성\n",
    "plt.figure(1, figsize=(15,10))\n",
    "wordcloud = WordCloud(width=1000, height=1000, margin=0).generate(text)\n",
    "\n",
    "# Display the generated image:\n",
    "plt.imshow(wordcloud, interpolation='bilinear')\n",
    "plt.axis(\"off\")\n",
    "plt.margins(x=0, y=0)\n",
    "plt.show()"
   ]
  },
  {
   "cell_type": "markdown",
   "metadata": {
    "id": "QeDZg95Fy6ZL"
   },
   "source": [
    "stopwords : 불용어에 대한 처리 기준 (Data Engineering 이 중요한 이유)"
   ]
  },
  {
   "cell_type": "code",
   "execution_count": null,
   "metadata": {
    "colab": {
     "base_uri": "https://localhost:8080/",
     "height": 575
    },
    "id": "mdyvTuN4wZpT",
    "outputId": "3c3849ca-d3e8-451e-8a7a-6a0853b0b8f8"
   },
   "outputs": [],
   "source": [
    "from wordcloud import WordCloud, STOPWORDS\n",
    "import matplotlib.pyplot as plt\n",
    " \n",
    "# 예시 text\n",
    "text=(\"Python Python Python Matplotlib Matplotlib Seaborn Network Plot Violin Chart Pandas Datascience Wordcloud Spider Radar Parrallel Alpha Color Brewer Density Scatter Barplot Barplot Boxplot Violinplot Treemap Stacked Area Chart Chart Visualization Dataviz Donut Pie Time-Series Wordcloud Wordcloud Sankey Bubble\")\n",
    "\n",
    "# stopwords(불용어) 설정 \n",
    "stopwords = set(STOPWORDS)\n",
    "stopwords = ['Python', 'Seaborn','Chart']\n",
    "stopwords.extend(stopwords)\n",
    "\n",
    "# word cloud 생성\n",
    "plt.figure(1, figsize=(15,10))\n",
    "wordcloud = WordCloud(width=1000, height=1000, stopwords=stopwords, margin=0).generate(text)\n",
    "\n",
    "# Display the generated image:\n",
    "plt.imshow(wordcloud, interpolation='bilinear')\n",
    "plt.axis(\"off\")\n",
    "plt.margins(x=0, y=0)\n",
    "plt.show()"
   ]
  },
  {
   "cell_type": "code",
   "execution_count": null,
   "metadata": {},
   "outputs": [],
   "source": []
  },
  {
   "cell_type": "code",
   "execution_count": null,
   "metadata": {},
   "outputs": [],
   "source": []
  },
  {
   "cell_type": "code",
   "execution_count": null,
   "metadata": {},
   "outputs": [],
   "source": []
  },
  {
   "cell_type": "code",
   "execution_count": null,
   "metadata": {},
   "outputs": [],
   "source": []
  },
  {
   "cell_type": "code",
   "execution_count": null,
   "metadata": {},
   "outputs": [],
   "source": []
  },
  {
   "cell_type": "markdown",
   "metadata": {
    "id": "jdnBycL6pTAu"
   },
   "source": [
    "##  Seaborn\n",
    "    - lineplot\n",
    "    - relplot\n",
    "    - boxplot\n",
    "    - swarmplot\n",
    "    - lmplot\n",
    "    - catplot\n",
    "    - heatmap\n",
    "    - pairplot\n",
    "    - barplot\n",
    "    - jointplot 외"
   ]
  },
  {
   "cell_type": "markdown",
   "metadata": {
    "id": "6ph-NnkfcCma"
   },
   "source": [
    "Seaborn : 시각적으로 예쁘고, 간결한 구문을 제공 !!"
   ]
  },
  {
   "cell_type": "code",
   "execution_count": null,
   "metadata": {
    "id": "WWEqMpYgpTAu"
   },
   "outputs": [],
   "source": [
    "# 시각화 작업을 위한 Library Call\n",
    "import matplotlib.pyplot as plt\n",
    "import numpy as np\n",
    "import seaborn as sns\n",
    "\n",
    "# notebook을 실행한 브라우저에서 그림을 바로 볼 수 있게 해줌 !\n",
    "%matplotlib inline\n",
    "\n",
    "# 시각화 캔버스에 대한 grid 작업 (안넣어도 무방함)\n",
    "sns.set_style(\"whitegrid\")"
   ]
  },
  {
   "cell_type": "markdown",
   "metadata": {
    "id": "cV_2iYySWMnE"
   },
   "source": [
    "# (Example) Seaborn을 이용한 시각화 (lineplot)"
   ]
  },
  {
   "cell_type": "markdown",
   "metadata": {
    "id": "pl87_aoeohkn"
   },
   "source": [
    "시각화의 기본이라 할 수 있는, lineplot\n",
    "\n"
   ]
  },
  {
   "cell_type": "code",
   "execution_count": null,
   "metadata": {
    "colab": {
     "base_uri": "https://localhost:8080/",
     "height": 198
    },
    "id": "XOa8XR59WV5K",
    "outputId": "ad4a7172-fd03-40cf-964b-2af7c440ad56"
   },
   "outputs": [],
   "source": [
    "# fmri dataset을 활용한 실습\n",
    "fmri = sns.load_dataset(\"fmri\")\n",
    "fmri.head(5)"
   ]
  },
  {
   "cell_type": "code",
   "execution_count": null,
   "metadata": {
    "colab": {
     "base_uri": "https://localhost:8080/",
     "height": 297
    },
    "id": "CRynhmPGWL6G",
    "outputId": "b3e78a66-8435-49be-bf28-334a7a2319a2"
   },
   "outputs": [],
   "source": [
    "# 기본적인 lineplot 시각화1\n",
    "sns.lineplot(x=\"timepoint\", y=\"signal\", hue=\"region\", data=fmri)"
   ]
  },
  {
   "cell_type": "code",
   "execution_count": null,
   "metadata": {
    "colab": {
     "base_uri": "https://localhost:8080/",
     "height": 297
    },
    "id": "3QN7wVg3Zd_t",
    "outputId": "ca24980f-9fde-48a8-fcea-3f79ecf56e02"
   },
   "outputs": [],
   "source": [
    "# 기본적인 lineplot 시각화2\n",
    "sns.lineplot(x=\"timepoint\", y=\"signal\", hue=\"event\",palette=\"Set3\", data=fmri)"
   ]
  },
  {
   "cell_type": "markdown",
   "metadata": {
    "id": "0gOgjwEBmPK3"
   },
   "source": [
    "# (Example) Seaborn을 이용한 시각화 (relplot)"
   ]
  },
  {
   "cell_type": "markdown",
   "metadata": {
    "id": "24rU0C68n-Zs"
   },
   "source": [
    "관계열 시각화 Plotting 방법\n",
    "\n"
   ]
  },
  {
   "cell_type": "code",
   "execution_count": null,
   "metadata": {
    "colab": {
     "base_uri": "https://localhost:8080/",
     "height": 198
    },
    "id": "cBGzQE6RmY8q",
    "outputId": "b9123998-762e-4a91-d840-8ab4c97050dd"
   },
   "outputs": [],
   "source": [
    "# titanic dataset을 활용한 실습\n",
    "titanic = sns.load_dataset(\"titanic\")\n",
    "titanic.head(5)"
   ]
  },
  {
   "cell_type": "code",
   "execution_count": null,
   "metadata": {
    "colab": {
     "base_uri": "https://localhost:8080/",
     "height": 383
    },
    "id": "l2GEcJLRn98j",
    "outputId": "78e79333-4518-4d53-a753-8af2844c8d06"
   },
   "outputs": [],
   "source": [
    "# x(age), y(fare), hue(class), col(who)에 대한 relplot 시각화 진행\n",
    "# kind 파라미터 : Scatter 가 디폴트\n",
    "sns.relplot(x=\"age\", y=\"fare\", hue = \"class\", col=\"who\",data=titanic)\n",
    "plt.show()"
   ]
  },
  {
   "cell_type": "code",
   "execution_count": null,
   "metadata": {
    "colab": {
     "base_uri": "https://localhost:8080/",
     "height": 743
    },
    "id": "dmcLM4hmt-OT",
    "outputId": "f3c2708c-fef0-4116-d19a-0af0e6e279b9"
   },
   "outputs": [],
   "source": [
    "# x(age), y(fare), hue(class), col(who), row(survived)에 대한 relplot 시각화 진행\n",
    "# kind = \"line\"\n",
    "sns.relplot(x=\"age\", y=\"fare\", hue = \"class\", col=\"who\", kind=\"line\", row=\"survived\", data=titanic)\n",
    "plt.show()"
   ]
  },
  {
   "cell_type": "code",
   "execution_count": null,
   "metadata": {
    "colab": {
     "base_uri": "https://localhost:8080/",
     "height": 383
    },
    "id": "7g2RLxPbstO1",
    "outputId": "dfb50a8d-ec90-43c6-af52-a1add3d991ea"
   },
   "outputs": [],
   "source": [
    "# x(age), y(fare), hue(class), col(who)에 대한 relplot 시각화 진행\n",
    "# kind 파라미터 : line\n",
    "sns.relplot(x=\"age\", y=\"fare\", hue = \"class\", col=\"who\", kind = \"line\", data=titanic)\n",
    "plt.show()"
   ]
  },
  {
   "cell_type": "code",
   "execution_count": null,
   "metadata": {
    "colab": {
     "base_uri": "https://localhost:8080/",
     "height": 383
    },
    "id": "EofLHL5Iqt3k",
    "outputId": "cd475848-05cc-470c-ca7a-9b6b73c5e3a6"
   },
   "outputs": [],
   "source": [
    "# x(age), y(fare), hue(class), col(who)에 대한 relplot 시각화 진행\n",
    "# data 내에서 sub query 를 통한, 필터링도 가능 (sex == 'male')\n",
    "sns.relplot(x=\"age\", y=\"fare\", hue = \"class\", col=\"who\", kind = \"line\", data = titanic.query(\"sex == 'male'\"))\n",
    "plt.show()"
   ]
  },
  {
   "cell_type": "code",
   "execution_count": null,
   "metadata": {
    "colab": {
     "base_uri": "https://localhost:8080/",
     "height": 198
    },
    "id": "l6DA009ZFyV1",
    "outputId": "967ee192-47e4-4b7c-d5a5-92a3bc361a0a"
   },
   "outputs": [],
   "source": [
    "# dots dataset을 활용한 실습\n",
    "dots = sns.load_dataset(\"dots\")\n",
    "dots.head(5)"
   ]
  },
  {
   "cell_type": "code",
   "execution_count": null,
   "metadata": {
    "colab": {
     "base_uri": "https://localhost:8080/",
     "height": 401
    },
    "id": "1rUoqqD4F2Zl",
    "outputId": "40565d6f-f7ce-473e-be49-6254937dbaff"
   },
   "outputs": [],
   "source": [
    "palette = sns.color_palette(\"rocket_r\")\n",
    "\n",
    "# x(time), y(firing_rate), hue(coherence), col(align), size(choice)에 대한 relplot 시각화 진행\n",
    "# kind(line 세팅)\n",
    "sns.relplot(\n",
    "    x=\"time\",\n",
    "    y=\"firing_rate\",\n",
    "    hue=\"coherence\",\n",
    "    size=\"choice\",\n",
    "    col=\"align\",\n",
    "    kind=\"line\",\n",
    "    palette=palette,\n",
    "    data = dots\n",
    ")"
   ]
  },
  {
   "cell_type": "markdown",
   "metadata": {
    "id": "rA95UObHEbwG"
   },
   "source": [
    "# (Example) Seaborn을 이용한 시각화 (boxplot)"
   ]
  },
  {
   "cell_type": "markdown",
   "metadata": {
    "id": "eJBJUxDcOvLc"
   },
   "source": [
    "**[중요]** Boxplot은 EDA / 머신러닝 작업에서 2~3개 그룹간의 비교, 2개 클래스를 잘 분류할 수 있는 변수를 찾는데 가장 많이 사용됨"
   ]
  },
  {
   "cell_type": "code",
   "execution_count": null,
   "metadata": {
    "colab": {
     "base_uri": "https://localhost:8080/",
     "height": 198
    },
    "id": "ErDJakrzFCxb",
    "outputId": "234eb666-56f0-4045-e175-cdd9b2278084"
   },
   "outputs": [],
   "source": [
    "# tips dataset을 활용한 실습\n",
    "tips = sns.load_dataset(\"tips\")\n",
    "tips.head(5)"
   ]
  },
  {
   "cell_type": "code",
   "execution_count": null,
   "metadata": {
    "colab": {
     "base_uri": "https://localhost:8080/",
     "height": 266
    },
    "id": "-n7DDKWVOYhX",
    "outputId": "5fe5117b-8ec2-431b-b537-38b02b139ab7"
   },
   "outputs": [],
   "source": [
    "# 기본적인 boxplot 시각화 (y축 기준)\n",
    "sns.boxplot(y='tip', data=tips)"
   ]
  },
  {
   "cell_type": "code",
   "execution_count": null,
   "metadata": {
    "colab": {
     "base_uri": "https://localhost:8080/",
     "height": 389
    },
    "id": "pHod4nsppTAw",
    "outputId": "c8f5b2fd-266c-4674-9f22-fefabbc00f36"
   },
   "outputs": [],
   "source": [
    "# 기본적인 boxplot 시각화 (x축 기준)\n",
    "sns.set_style(\"whitegrid\")\n",
    "plt.figure(figsize=(8,6))\n",
    "\n",
    "# 뒤에 'data = tips'을 쓰지 않으면, df 형태에서 접근하는 방법도 가능 df['컬럼명'] \n",
    "sns.boxplot(x=tips[\"total_bill\"])\n",
    "plt.show()"
   ]
  },
  {
   "cell_type": "code",
   "execution_count": null,
   "metadata": {
    "colab": {
     "base_uri": "https://localhost:8080/",
     "height": 388
    },
    "id": "EesX4-fCpTA0",
    "outputId": "446cffe7-a9ab-42a4-a76b-e6bac1349224"
   },
   "outputs": [],
   "source": [
    "# 기본적인 boxplot 시각화 (x, y 2개 축 기준)\n",
    "plt.figure(figsize=(8,6))\n",
    "sns.boxplot(x=\"day\", y=\"total_bill\", data=tips)\n",
    "plt.show()"
   ]
  },
  {
   "cell_type": "code",
   "execution_count": null,
   "metadata": {
    "colab": {
     "base_uri": "https://localhost:8080/",
     "height": 279
    },
    "id": "dNcbK6ZkOYYn",
    "outputId": "d91505e4-b070-4512-cb5d-f214652c7621"
   },
   "outputs": [],
   "source": [
    "# x(sex), y(total_bill), hue(smoker) 별로 boxplot 그리기\n",
    "# hue(smoker) 세팅 시, 범례 자동으로 표시 됨\n",
    "sns.boxplot(x='sex', y='total_bill', hue='smoker', data=tips, palette=\"Set3\")\n",
    "plt.show()"
   ]
  },
  {
   "cell_type": "code",
   "execution_count": null,
   "metadata": {
    "colab": {
     "base_uri": "https://localhost:8080/",
     "height": 388
    },
    "id": "syRU1V5kpTA2",
    "outputId": "09a3ec40-2f81-4aa0-ffbe-50d6b68cf32f"
   },
   "outputs": [],
   "source": [
    "# x(day), y(tip), hue(smoker) 별로 boxplot 그리기\n",
    "plt.figure(figsize=(8,6))\n",
    "sns.boxplot(x=\"day\", y=\"tip\", hue=\"smoker\", data=tips, palette=\"Set3\")\n",
    "plt.show()"
   ]
  },
  {
   "cell_type": "markdown",
   "metadata": {
    "id": "pJreljl4xnk3"
   },
   "source": [
    "# (Example) Seaborn을 이용한 시각화 (swarmplot)"
   ]
  },
  {
   "cell_type": "markdown",
   "metadata": {
    "id": "JSX_VzB3xwPR"
   },
   "source": [
    "**[중요]** boxplot보다 원본 데이터의 분포를 더 자세하게 확인할 때 사용"
   ]
  },
  {
   "cell_type": "code",
   "execution_count": null,
   "metadata": {
    "colab": {
     "base_uri": "https://localhost:8080/",
     "height": 198
    },
    "id": "9_qLmlAQyReH",
    "outputId": "83b58d15-973a-44fd-b594-097aa781b191"
   },
   "outputs": [],
   "source": [
    "# tips dataset을 활용한 실습\n",
    "tips = sns.load_dataset(\"tips\")\n",
    "tips.head(5)"
   ]
  },
  {
   "cell_type": "code",
   "execution_count": null,
   "metadata": {
    "colab": {
     "base_uri": "https://localhost:8080/",
     "height": 388
    },
    "id": "WFQztkjApTA5",
    "outputId": "d71a2c48-d4a1-43a3-b776-bcb256d2994a"
   },
   "outputs": [],
   "source": [
    "# swarmplot 함수를 통한, 시각화 진행\n",
    "plt.figure(figsize=(8,6))\n",
    "sns.swarmplot(x=\"day\", y=\"total_bill\", data=tips, color=\".5\", size=6)\n",
    "plt.show()"
   ]
  },
  {
   "cell_type": "code",
   "execution_count": null,
   "metadata": {
    "colab": {
     "base_uri": "https://localhost:8080/",
     "height": 388
    },
    "id": "mV6nG0wz0KcM",
    "outputId": "f2e76c7c-91a4-42e6-e988-4deffe9662ac"
   },
   "outputs": [],
   "source": [
    "# swarmplot 함수를 통한, 시각화 진행\n",
    "plt.figure(figsize=(8,6))\n",
    "sns.swarmplot(x=\"day\", y=\"total_bill\", hue = \"time\", data=tips, size=6)\n",
    "plt.show()"
   ]
  },
  {
   "cell_type": "code",
   "execution_count": null,
   "metadata": {
    "colab": {
     "base_uri": "https://localhost:8080/",
     "height": 388
    },
    "id": "n35qu7-2pTA6",
    "outputId": "fcade37d-ffff-44ef-d772-9e52506807c7"
   },
   "outputs": [],
   "source": [
    "# swarmplot + boxplot 함수를 통한, 시각화 진행\n",
    "plt.figure(figsize=(8,6))\n",
    "sns.boxplot(x=\"day\", y=\"total_bill\", data=tips)\n",
    "sns.swarmplot(x=\"day\", y=\"total_bill\", data=tips, color=\".25\")\n",
    "plt.show()"
   ]
  },
  {
   "cell_type": "markdown",
   "metadata": {
    "id": "AtLkA9sxETws"
   },
   "source": [
    "# (Example) Seaborn을 이용한 시각화 (lmplot)"
   ]
  },
  {
   "cell_type": "markdown",
   "metadata": {
    "id": "nSuRxg-WFTsj"
   },
   "source": [
    "lmplot을 통해 회귀(Regression) 그래프에 대한 생성이 가능함"
   ]
  },
  {
   "cell_type": "code",
   "execution_count": null,
   "metadata": {
    "colab": {
     "base_uri": "https://localhost:8080/",
     "height": 198
    },
    "id": "7rMwrkYPFd4V",
    "outputId": "62804ca1-9ee3-444d-cc93-2ff297923816"
   },
   "outputs": [],
   "source": [
    "# tips dataset을 활용한 실습\n",
    "tips = sns.load_dataset(\"tips\")\n",
    "tips.head(5)"
   ]
  },
  {
   "cell_type": "code",
   "execution_count": null,
   "metadata": {
    "colab": {
     "base_uri": "https://localhost:8080/",
     "height": 565
    },
    "id": "qnl7eWR8pTA9",
    "outputId": "67eb87b8-805f-40e9-9eae-3d6b086696d8"
   },
   "outputs": [],
   "source": [
    "# lmplot 함수를 통한, 시각화 진행\n",
    "sns.set_style(\"darkgrid\")\n",
    "sns.lmplot(x=\"total_bill\", y=\"tip\", data=tips, size=7)\n",
    "plt.show()"
   ]
  },
  {
   "cell_type": "code",
   "execution_count": null,
   "metadata": {
    "colab": {
     "base_uri": "https://localhost:8080/",
     "height": 565
    },
    "id": "5pqOGbWapTA_",
    "outputId": "7d0d3aaa-586c-4cbe-eca8-c7ecca907d9b"
   },
   "outputs": [],
   "source": [
    "# lmplot 함수에, hue 값을 이용한 카테고리 구분\n",
    "# marker(표시 형식) 에 대한 세팅도 가능\n",
    "sns.lmplot(x=\"total_bill\", y=\"tip\", hue=\"smoker\", markers=[\"o\",\"x\"], data=tips, size=7)\n",
    "plt.show()"
   ]
  },
  {
   "cell_type": "code",
   "execution_count": null,
   "metadata": {
    "colab": {
     "base_uri": "https://localhost:8080/",
     "height": 565
    },
    "id": "t92PPyKGpTBC",
    "outputId": "0fa71c5e-2836-46b9-ae50-1484e650f130"
   },
   "outputs": [],
   "source": [
    "# lmplot 함수에서, color palette 설정\n",
    "sns.lmplot(x=\"total_bill\", y=\"tip\", hue=\"smoker\", data=tips, palette=\"Set1\", size=7)\n",
    "plt.show()"
   ]
  },
  {
   "cell_type": "markdown",
   "metadata": {
    "id": "E32asYS9CMLs"
   },
   "source": [
    "# (Example) Seaborn을 이용한 시각화 (catplot(종합))"
   ]
  },
  {
   "cell_type": "markdown",
   "metadata": {
    "id": "w3FoKWAiCavx"
   },
   "source": [
    "숫자형 변수와 하나 이상의 범주형 변수의 관계를 보여주는 시각화\n",
    "- kind = point, bar, count, box, violin, boxen, ..."
   ]
  },
  {
   "cell_type": "code",
   "execution_count": null,
   "metadata": {
    "colab": {
     "base_uri": "https://localhost:8080/",
     "height": 198
    },
    "id": "J5n1cyIKCiFn",
    "outputId": "39967684-08e8-4cec-86ff-ec46c23c3602"
   },
   "outputs": [],
   "source": [
    "# exercise dataset을 활용한 실습\n",
    "exercise = sns.load_dataset(\"exercise\")\n",
    "exercise.head(5)"
   ]
  },
  {
   "cell_type": "code",
   "execution_count": null,
   "metadata": {
    "colab": {
     "base_uri": "https://localhost:8080/",
     "height": 401
    },
    "id": "9KM0qEJW-_eX",
    "outputId": "bac322e1-b54e-4d5a-bf84-f1e6fef33322"
   },
   "outputs": [],
   "source": [
    "# catplot 함수를 통한, 시각화 진행 (kind=\"point\")\n",
    "sns.catplot(x=\"time\", y=\"pulse\", hue=\"kind\", col=\"diet\", kind=\"point\", data=exercise)\n",
    "#sns.catplot(x=\"time\", y=\"pulse\", hue=\"kind\", col=\"diet\", capsize=.2, height=6, aspect=.75, kind=\"point\", data=exercise)\n",
    "plt.plot()"
   ]
  },
  {
   "cell_type": "code",
   "execution_count": null,
   "metadata": {
    "colab": {
     "base_uri": "https://localhost:8080/",
     "height": 1000
    },
    "id": "42pylUXXGm8s",
    "outputId": "3316b154-0295-4c0f-f9d4-db4917e1f643"
   },
   "outputs": [],
   "source": [
    "# catplot 함수를 통한, 시각화 진행 (kind=\"bar\")\n",
    "sns.catplot(x=\"time\", y=\"pulse\", hue=\"kind\", col=\"diet\",row='kind', kind=\"bar\", data=exercise)\n",
    "plt.plot()"
   ]
  },
  {
   "cell_type": "code",
   "execution_count": null,
   "metadata": {
    "colab": {
     "base_uri": "https://localhost:8080/",
     "height": 401
    },
    "id": "fNgXXgdxGt54",
    "outputId": "5c7d4f14-75fb-4c7b-e786-59c6e87b41ca"
   },
   "outputs": [],
   "source": [
    "# catplot 함수를 통한, 시각화 진행 (kind=\"box\")\n",
    "sns.catplot(x=\"time\", y=\"pulse\", hue=\"kind\", col=\"diet\", kind=\"box\", data=exercise)\n",
    "plt.plot()"
   ]
  },
  {
   "cell_type": "code",
   "execution_count": null,
   "metadata": {
    "colab": {
     "base_uri": "https://localhost:8080/",
     "height": 401
    },
    "id": "uOwctCVyGz0k",
    "outputId": "3e035576-ee36-4609-e203-b9c35afbf97e"
   },
   "outputs": [],
   "source": [
    "# catplot 함수를 통한, 시각화 진행 (kind=\"violin\")\n",
    "sns.catplot(x=\"time\", y=\"pulse\", hue=\"kind\", col=\"diet\", kind=\"violin\", data=exercise)\n",
    "plt.plot()"
   ]
  },
  {
   "cell_type": "code",
   "execution_count": null,
   "metadata": {
    "colab": {
     "base_uri": "https://localhost:8080/",
     "height": 401
    },
    "id": "-Nz23MC_G4vA",
    "outputId": "909497a3-acc7-4be1-da95-8cb52f2a1927"
   },
   "outputs": [],
   "source": [
    "# catplot 함수를 통한, 시각화 진행 (kind=\"boxen\")\n",
    "sns.catplot(x=\"time\", y=\"pulse\", hue=\"kind\", col=\"diet\", kind=\"boxen\", data=exercise)\n",
    "plt.plot()"
   ]
  },
  {
   "cell_type": "markdown",
   "metadata": {
    "id": "OBgLHfjjp6Ox"
   },
   "source": [
    "# (Example) Seaborn을 이용한 시각화 (heatmap)"
   ]
  },
  {
   "cell_type": "markdown",
   "metadata": {
    "id": "v7yn3Z55qLw8"
   },
   "source": [
    "heatmap을 통해, 두 개의 카테고리 값에 의한 실수의 변화를 보고자 할 경우에 사용"
   ]
  },
  {
   "cell_type": "code",
   "execution_count": null,
   "metadata": {
    "colab": {
     "base_uri": "https://localhost:8080/",
     "height": 198
    },
    "id": "zYek-2xKpTBI",
    "outputId": "2cc5caab-ed34-42c0-bf74-80848a7e8417"
   },
   "outputs": [],
   "source": [
    "# 시각화를 위한, flights Data Loading\n",
    "flights = sns.load_dataset(\"flights\")\n",
    "flights.head(5)"
   ]
  },
  {
   "cell_type": "code",
   "execution_count": null,
   "metadata": {
    "colab": {
     "base_uri": "https://localhost:8080/",
     "height": 228
    },
    "id": "SqpjMuASpTBK",
    "outputId": "15137463-4493-43a2-8f28-f189e100ebe5"
   },
   "outputs": [],
   "source": [
    "# heatmap으로 만들기 위한, pivot_table 함수를 사용\n",
    "flights = flights.pivot(\"month\", \"year\", \"passengers\")\n",
    "flights.head(5)"
   ]
  },
  {
   "cell_type": "code",
   "execution_count": null,
   "metadata": {
    "colab": {
     "base_uri": "https://localhost:8080/",
     "height": 497
    },
    "id": "THaRrDTGpTBM",
    "outputId": "1d5b942f-742f-4291-9120-bc3d064565a3"
   },
   "outputs": [],
   "source": [
    "# heatmap 함수를 통한, 시각화 진행\n",
    "plt.figure(figsize=(10,8))\n",
    "sns.heatmap(flights)\n",
    "plt.show()"
   ]
  },
  {
   "cell_type": "code",
   "execution_count": null,
   "metadata": {
    "colab": {
     "base_uri": "https://localhost:8080/",
     "height": 497
    },
    "id": "UKcNJtPzpTBO",
    "outputId": "74ad8e3a-668f-411a-8079-3f484b69ba9c"
   },
   "outputs": [],
   "source": [
    "# annot 옵션을 통한, value 값 출력 가능\n",
    "# fmt(포맷팅) 옵션을 통한, 데이터 형식 지정 가능(d: 정수, f:실수)\n",
    "plt.figure(figsize=(10,8))\n",
    "sns.heatmap(flights, annot=True, fmt=\"d\")\n",
    "plt.show()"
   ]
  },
  {
   "cell_type": "markdown",
   "metadata": {
    "id": "R_a9brdWnPl1"
   },
   "source": [
    "# (Example) Seaborn을 이용한 시각화 (pairplot)\n",
    "pairplot 함수를 이용하여, 데이터의 분포 및 변수간 관계 분석이 가능\n",
    "\n",
    "\n"
   ]
  },
  {
   "cell_type": "code",
   "execution_count": null,
   "metadata": {
    "colab": {
     "base_uri": "https://localhost:8080/",
     "height": 348
    },
    "id": "XgKOxKKdpTBQ",
    "outputId": "1459317d-0efd-45a4-9143-e6e83a3856fc"
   },
   "outputs": [],
   "source": [
    "# 시각화를 위한, iris Data Loading\n",
    "sns.set(style=\"ticks\")\n",
    "iris = sns.load_dataset(\"iris\")\n",
    "iris.head(10)"
   ]
  },
  {
   "cell_type": "code",
   "execution_count": null,
   "metadata": {
    "colab": {
     "base_uri": "https://localhost:8080/",
     "height": 724
    },
    "id": "iErRSD2VpTBU",
    "outputId": "98b627ae-fa2d-4e01-ef3b-4bfa6831a125"
   },
   "outputs": [],
   "source": [
    "# pairplot을 통하느 변수(컬럼)간 관계와 분포 확인 가능\n",
    "sns.pairplot(iris)\n",
    "plt.show()"
   ]
  },
  {
   "cell_type": "code",
   "execution_count": null,
   "metadata": {
    "colab": {
     "base_uri": "https://localhost:8080/",
     "height": 742
    },
    "id": "68QIC0hCVW4Z",
    "outputId": "ecac8caf-1797-45f5-ca5f-4eb1ba77db92"
   },
   "outputs": [],
   "source": [
    "# hue 옵션을 이용하여, 카테고리 별 변수의 관계와 분포 확인 가능\n",
    "sns.pairplot(iris, hue='species')"
   ]
  },
  {
   "cell_type": "code",
   "execution_count": null,
   "metadata": {
    "colab": {
     "base_uri": "https://localhost:8080/",
     "height": 390
    },
    "id": "fzSWfx95XpnU",
    "outputId": "81f3bff5-ff64-4070-bfd2-c7cd569d9698"
   },
   "outputs": [],
   "source": [
    "# vars 옵션을 사용하여, 특정 변수만 지정해서 볼 수 있음\n",
    "sns.pairplot(iris, vars=['sepal_width', 'sepal_length'])"
   ]
  },
  {
   "cell_type": "code",
   "execution_count": null,
   "metadata": {
    "colab": {
     "base_uri": "https://localhost:8080/",
     "height": 390
    },
    "id": "_BEiXylKXwwI",
    "outputId": "4d88941f-c556-4d95-e132-0d172377d2ad"
   },
   "outputs": [],
   "source": [
    "# seaborn pairplot (x_vars, y_vars 사용)\n",
    "sns.pairplot(iris, x_vars=['sepal_width','sepal_length'], y_vars=['petal_width','petal_length'])"
   ]
  },
  {
   "cell_type": "markdown",
   "metadata": {
    "id": "7bfhuZ1pkVsT"
   },
   "source": [
    "# (Example) Seaborn을 이용한 시각화 (barplot)\n",
    "barplot 함수를 이용하여, 다양한 집계 값에 대한 표현이 가능함"
   ]
  },
  {
   "cell_type": "code",
   "execution_count": null,
   "metadata": {
    "colab": {
     "base_uri": "https://localhost:8080/",
     "height": 198
    },
    "id": "GIAo-d8QklRt",
    "outputId": "b14819f8-629d-4bfa-a7e4-1b9846dc67d5"
   },
   "outputs": [],
   "source": [
    "# titanic dataset을 활용한 실습\n",
    "titanic = sns.load_dataset(\"titanic\")\n",
    "titanic.head(5)"
   ]
  },
  {
   "cell_type": "code",
   "execution_count": null,
   "metadata": {
    "colab": {
     "base_uri": "https://localhost:8080/",
     "height": 303
    },
    "id": "1L0sQoqvklY9",
    "outputId": "1a03bba8-6d7b-42b0-b9bd-8e50a91a96f8"
   },
   "outputs": [],
   "source": [
    "# barplot draw (default : 평균값을 의미)\n",
    "sns.barplot(data=titanic, x=\"class\", y=\"survived\")\n",
    "\n",
    "# 갑자기 나타난, 세로 선은 무엇일까? '오차 막대'\n",
    "# 오차막대(Error Bar) : 이 데이터를 기반으로 유사한 상황의 95%가 이 범위 내의 결과를 얻을 것을 의미함"
   ]
  },
  {
   "cell_type": "code",
   "execution_count": null,
   "metadata": {
    "colab": {
     "base_uri": "https://localhost:8080/",
     "height": 303
    },
    "id": "-fT5CjqBklgR",
    "outputId": "1c792689-b562-448b-f399-fe46a2ee390a"
   },
   "outputs": [],
   "source": [
    "# barplot draw (default : 평균값을 의미)\n",
    "sns.barplot(data=titanic, x=\"class\", y=\"survived\", estimator=len)"
   ]
  },
  {
   "cell_type": "markdown",
   "metadata": {
    "id": "SPlV_D9-BIUC"
   },
   "source": [
    "# (Exampe) 다양한 시각화 제공 (Jointplot, countplot 등)"
   ]
  },
  {
   "cell_type": "markdown",
   "metadata": {
    "id": "3PWEM8W3BjAg"
   },
   "source": [
    "Jointplot : 안쪽은 점 데이터로 분포를 확인하고, 바깓쪽은 막대 그래프로 밀집도를 확인하는 시각화"
   ]
  },
  {
   "cell_type": "code",
   "execution_count": null,
   "metadata": {
    "colab": {
     "base_uri": "https://localhost:8080/",
     "height": 198
    },
    "id": "OS3Iykc4BdFk",
    "outputId": "40009ba4-4363-46e0-92ff-542a1e57401b"
   },
   "outputs": [],
   "source": [
    "# tips dataset을 활용한 실습\n",
    "tips = sns.load_dataset(\"tips\")\n",
    "tips.head(5)"
   ]
  },
  {
   "cell_type": "code",
   "execution_count": null,
   "metadata": {
    "colab": {
     "base_uri": "https://localhost:8080/",
     "height": 455
    },
    "id": "F5dhQtzlBdMN",
    "outputId": "8dba575a-09ce-49ee-e947-80e7721741de"
   },
   "outputs": [],
   "source": [
    "# Parameter kind에 아무것도 넣지 않으면, Default : scatter plot\n",
    "joint = sns.jointplot(x='total_bill', y='tip', data=tips)\n",
    "plt.show()\n",
    "\n",
    "# x, y label setting\n",
    "joint.set_axis_labels(xlabel='TB', ylabel='Tip')"
   ]
  },
  {
   "cell_type": "code",
   "execution_count": null,
   "metadata": {
    "colab": {
     "base_uri": "https://localhost:8080/",
     "height": 437
    },
    "id": "AJwG3Xk4dYNr",
    "outputId": "6c703601-4087-43ec-9131-4dede6a6f16c"
   },
   "outputs": [],
   "source": [
    "# Parameter kind : reg(회귀선)\n",
    "joint = sns.jointplot(x='total_bill', y='tip', data=tips, kind='reg')\n",
    "plt.show()"
   ]
  },
  {
   "cell_type": "code",
   "execution_count": null,
   "metadata": {
    "colab": {
     "base_uri": "https://localhost:8080/",
     "height": 437
    },
    "id": "kA715EY8dZE_",
    "outputId": "41d70d7d-96c9-48eb-cb7b-6a19921e2bc7"
   },
   "outputs": [],
   "source": [
    "# Parameter kind : hex(hexbin)\n",
    "joint = sns.jointplot(x='total_bill', y='tip', data=tips, kind='hex')\n",
    "plt.show()"
   ]
  },
  {
   "cell_type": "code",
   "execution_count": null,
   "metadata": {
    "colab": {
     "base_uri": "https://localhost:8080/",
     "height": 437
    },
    "id": "0HudOA1vdZP9",
    "outputId": "f1339c03-b63b-4d75-b50a-eab5a27a2415"
   },
   "outputs": [],
   "source": [
    "# Parameter kind : kde (kernel density estimation)\n",
    "joint = sns.jointplot(x='total_bill', y='tip', data=tips, kind='kde')\n",
    "plt.show()"
   ]
  },
  {
   "cell_type": "code",
   "execution_count": null,
   "metadata": {
    "colab": {
     "base_uri": "https://localhost:8080/",
     "height": 437
    },
    "id": "TmlNpP9HdZLf",
    "outputId": "a1fd0098-137b-4a13-8114-f2f2ec1fe2de"
   },
   "outputs": [],
   "source": [
    "# Parameter kind : hex\n",
    "# joint = sns.jointplot(x='total_bill', y='tip', data=tips, kind='hex', color=\"grey\")\n",
    "joint = sns.jointplot(x='total_bill', y='tip', data=tips, kind='hex', color=\"grey\", space=0)\n",
    "plt.show()"
   ]
  },
  {
   "cell_type": "markdown",
   "metadata": {
    "id": "VBDV-_3oCSOJ"
   },
   "source": [
    "countplot : 지정한 컬럼 별 모수를 보여주는 barchart"
   ]
  },
  {
   "cell_type": "code",
   "execution_count": null,
   "metadata": {
    "colab": {
     "base_uri": "https://localhost:8080/",
     "height": 198
    },
    "id": "N9y3ggV0CkMU",
    "outputId": "e4c04f34-7fe9-4af0-f30d-8ed86531f948"
   },
   "outputs": [],
   "source": [
    "# titanic dataset을 활용한 실습\n",
    "titanic = sns.load_dataset(\"titanic\")\n",
    "titanic.head(5)"
   ]
  },
  {
   "cell_type": "code",
   "execution_count": null,
   "metadata": {
    "colab": {
     "base_uri": "https://localhost:8080/",
     "height": 319
    },
    "id": "7sb6dRDXCk9r",
    "outputId": "6f67ea09-e5b6-4d3b-c6d8-b5d25d1c83d9"
   },
   "outputs": [],
   "source": [
    "# 카테고리별 카운트 가능\n",
    "sns.countplot(x=\"sex\", data=titanic)\n",
    "plt.title(\"title name\")"
   ]
  }
 ],
 "metadata": {
  "colab": {
   "collapsed_sections": [],
   "name": "[CDS] Study Code_Data visualization_v0.3.ipynb",
   "provenance": []
  },
  "kernelspec": {
   "display_name": "Python 3",
   "language": "python",
   "name": "python3"
  },
  "language_info": {
   "codemirror_mode": {
    "name": "ipython",
    "version": 3
   },
   "file_extension": ".py",
   "mimetype": "text/x-python",
   "name": "python",
   "nbconvert_exporter": "python",
   "pygments_lexer": "ipython3",
   "version": "3.6.6"
  }
 },
 "nbformat": 4,
 "nbformat_minor": 1
}
