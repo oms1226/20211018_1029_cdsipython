{
 "cells": [
  {
   "cell_type": "markdown",
   "id": "7f56b945",
   "metadata": {},
   "source": [
    "## 자전거 대여량 예측\n",
    "\n",
    "워싱턴 D.C 소재의 자전거 대여 스타트업 Capital Bikeshare의 데이터를 활용하여, 특정 시간대에 얼마나 많은 사람들이 자전거를 대여하는지 예측하는 것이 목표입니다.\n",
    "\n",
    "사람들이 자전거를 대여하는데는 많은 요소가 관여되어 있을 겁니다. 가령 **시간(새벽보다 낮에 많이 빌리겠죠)**, **날씨(비가 오면 자전거를 대여하지 않을 겁니다), 근무일(근무 시간에는 자전거를 대여하지 않겠죠)** 등. 이런 모든 요소를 조합하여 워싱턴 D.C의 자전거 교통량을 예측해주세요.\n",
    "\n",
    "## 데이터 설명\n",
    "\n",
    "#### 파일 구조\n",
    "- train.csv\n",
    "    - 학습을 위하여 활용되는 데이터 셋입니다.\n",
    "- test.csv\n",
    "    - 평가를 위하여 제공되는 데이터 셋입니다.\n",
    "- submission.csv\n",
    "    - test.csv 파일을 예측한 결과를 submission 파일에 작성한 후 제출합니다.\n",
    "    \n",
    "#### 컬럼 구조\n",
    "  * **datetime** - 시간. 연-월-일 시:분:초 로 표현합니다. (가령 2011-01-01 00:00:00은 2011년 1월 1일 0시 0분 0초)\n",
    "  * **season** - 계절. 봄(1), 여름(2), 가을(3), 겨울(4) 순으로 표현합니다.\n",
    "  * **holiday** - 공휴일. 1이면 공휴일이며, 0이면 공휴일이 아닙니다.\n",
    "  * **workingday** - 근무일. 1이면 근무일이며, 0이면 근무일이 아닙니다.\n",
    "  * **weather** - 날씨. 1 ~ 4 사이의 값을 가지며, 구체적으로는 다음과 같습니다.\n",
    "    * 1: 아주 깨끗한 날씨입니다. 또는 아주 약간의 구름이 끼어있습니다.\n",
    "    * 2: 약간의 안개와 구름이 끼어있는 날씨입니다.\n",
    "    * 3: 약간의 눈, 비가 오거나 천둥이 칩니다.\n",
    "    * 4: 아주 많은 비가 오거나 우박이 내립니다.\n",
    "  * **temp** - 온도. 섭씨(Celsius)로 적혀있습니다.\n",
    "  * **atemp** - 체감 온도. 마찬가지로 섭씨(Celsius)로 적혀있습니다.\n",
    "  * **humidity** - 습도.\n",
    "  * **windspeed** - 풍속.\n",
    "  * **casual** - 비회원(non-registered)의 자전거 대여량.\n",
    "  * **registered** - 회원(registered)의 자전거 대여량.\n",
    "  * **count** - 총 자전거 대여랑. 비회원(casual) + 회원(registered)과 동일합니다. **목표 변수**입니다.\n",
    "  \n",
    "  ## 프로젝트 구성\n",
    "* 데이터 로드 (load data, train.csv, test.csv)\n",
    "* 데이터 전처리 및 특성 공학 (train.csv, test.csv)\n",
    "* 모델 생성 및 검증 (train.csv)\n",
    "* 평가 데이터 예측 (test.csv)\n",
    "* 결과 제출 및 점수 확인\n",
    "\n",
    "## 제출 이력 및 순위 조회\n",
    "[평가시스템](http://manage.jaen.kr)에 접속하여 확인 가능\n",
    "> 로그인 -> 프로젝트 -> 자전거 대여량 예측 -> 리더보드\n",
    "\n",
    "### 접속 정보\n",
    "- ID : `~~~@sk.com`\n",
    "- PWD : `mysuni`"
   ]
  },
  {
   "cell_type": "markdown",
   "id": "402a31de",
   "metadata": {},
   "source": [
    "## 환경 설정"
   ]
  },
  {
   "cell_type": "code",
   "execution_count": 1,
   "id": "70143136",
   "metadata": {},
   "outputs": [],
   "source": [
    "project_name = \"자전거 대여량 예측\" # 프로젝트 이름\n",
    "class_info = \"15차수 A반\" # 차수 정보\n",
    "email = \"test@sk.com\" # 회사 이메일을 넣어주세요. (~~~@sk.com)"
   ]
  },
  {
   "cell_type": "markdown",
   "id": "b265843d",
   "metadata": {},
   "source": [
    "## 모듈 설치 및 데이터 다운로드"
   ]
  },
  {
   "cell_type": "code",
   "execution_count": null,
   "id": "cc51aa85",
   "metadata": {},
   "outputs": [],
   "source": [
    "!pip3 install mySUNI"
   ]
  },
  {
   "cell_type": "code",
   "execution_count": 2,
   "id": "8457e220",
   "metadata": {},
   "outputs": [],
   "source": [
    "from mySUNI import cds"
   ]
  },
  {
   "cell_type": "code",
   "execution_count": null,
   "id": "5cd58f95",
   "metadata": {},
   "outputs": [],
   "source": [
    "cds.download_project(project_name, class_info, email)"
   ]
  },
  {
   "cell_type": "markdown",
   "id": "32c36750",
   "metadata": {},
   "source": [
    "## 모듈 import \n",
    "\n",
    "필요한 모듈을 import 합니다. 필요에 따라 추가 패키지를 load 할 수 있습니다."
   ]
  },
  {
   "cell_type": "code",
   "execution_count": 3,
   "id": "471a567e",
   "metadata": {},
   "outputs": [],
   "source": [
    "import os\n",
    "import datetime\n",
    "import numpy as np\n",
    "import pandas as pd\n",
    "import seaborn as sns\n",
    "import matplotlib.pyplot as plt\n",
    "\n",
    "%matplotlib inline\n",
    "\n",
    "# Data 경로 설정\n",
    "DATA_DIR = 'data'\n",
    "\n",
    "# train 데이터셋 로드 (train.csv)\n",
    "train = pd.read_csv(os.path.join(DATA_DIR, project_name, 'train.csv'))\n",
    "                                 \n",
    "# test 데이터셋 로드 (test.csv)\n",
    "test = pd.read_csv(os.path.join(DATA_DIR, project_name, 'test.csv'))\n",
    "\n",
    "# submission 파일 로드 (submission.csv)\n",
    "submission = pd.read_csv(os.path.join(DATA_DIR, project_name, 'submission.csv'))"
   ]
  },
  {
   "cell_type": "markdown",
   "id": "b61c0716",
   "metadata": {},
   "source": [
    "2개의 데이터 셋트를 나누어 제공합니다.\n",
    "\n",
    "1. train: 학습용 데이터 세트. 정답 값이라고 할 수 있는 `label` 값이 같이 제공됩니다.\n",
    "2. test: 예측용 데이터 세트. 정답 값이 빠진 `feature` 들만 제공됩니다. 우리는 이 `feature`를 활용하여 예측을 진행합니다.\n",
    "3. submission: 정답 제출용 데이터 세트. 주어진 형식에 맞춰 정답 값을 기입하고 제출합니다."
   ]
  },
  {
   "cell_type": "code",
   "execution_count": 4,
   "id": "2ab85dce",
   "metadata": {},
   "outputs": [
    {
     "data": {
      "text/html": [
       "<div>\n",
       "<style scoped>\n",
       "    .dataframe tbody tr th:only-of-type {\n",
       "        vertical-align: middle;\n",
       "    }\n",
       "\n",
       "    .dataframe tbody tr th {\n",
       "        vertical-align: top;\n",
       "    }\n",
       "\n",
       "    .dataframe thead th {\n",
       "        text-align: right;\n",
       "    }\n",
       "</style>\n",
       "<table border=\"1\" class=\"dataframe\">\n",
       "  <thead>\n",
       "    <tr style=\"text-align: right;\">\n",
       "      <th></th>\n",
       "      <th>datetime</th>\n",
       "      <th>season</th>\n",
       "      <th>holiday</th>\n",
       "      <th>workingday</th>\n",
       "      <th>weather</th>\n",
       "      <th>temp</th>\n",
       "      <th>atemp</th>\n",
       "      <th>humidity</th>\n",
       "      <th>windspeed</th>\n",
       "      <th>casual</th>\n",
       "      <th>registered</th>\n",
       "      <th>count</th>\n",
       "    </tr>\n",
       "  </thead>\n",
       "  <tbody>\n",
       "    <tr>\n",
       "      <th>0</th>\n",
       "      <td>2011-01-01 00:00:00</td>\n",
       "      <td>1</td>\n",
       "      <td>0</td>\n",
       "      <td>0</td>\n",
       "      <td>1</td>\n",
       "      <td>9.84</td>\n",
       "      <td>14.395</td>\n",
       "      <td>81</td>\n",
       "      <td>0.0</td>\n",
       "      <td>3</td>\n",
       "      <td>13</td>\n",
       "      <td>16</td>\n",
       "    </tr>\n",
       "    <tr>\n",
       "      <th>1</th>\n",
       "      <td>2011-01-01 01:00:00</td>\n",
       "      <td>1</td>\n",
       "      <td>0</td>\n",
       "      <td>0</td>\n",
       "      <td>1</td>\n",
       "      <td>9.02</td>\n",
       "      <td>13.635</td>\n",
       "      <td>80</td>\n",
       "      <td>0.0</td>\n",
       "      <td>8</td>\n",
       "      <td>32</td>\n",
       "      <td>40</td>\n",
       "    </tr>\n",
       "    <tr>\n",
       "      <th>2</th>\n",
       "      <td>2011-01-01 02:00:00</td>\n",
       "      <td>1</td>\n",
       "      <td>0</td>\n",
       "      <td>0</td>\n",
       "      <td>1</td>\n",
       "      <td>9.02</td>\n",
       "      <td>13.635</td>\n",
       "      <td>80</td>\n",
       "      <td>0.0</td>\n",
       "      <td>5</td>\n",
       "      <td>27</td>\n",
       "      <td>32</td>\n",
       "    </tr>\n",
       "    <tr>\n",
       "      <th>3</th>\n",
       "      <td>2011-01-01 03:00:00</td>\n",
       "      <td>1</td>\n",
       "      <td>0</td>\n",
       "      <td>0</td>\n",
       "      <td>1</td>\n",
       "      <td>9.84</td>\n",
       "      <td>14.395</td>\n",
       "      <td>75</td>\n",
       "      <td>0.0</td>\n",
       "      <td>3</td>\n",
       "      <td>10</td>\n",
       "      <td>13</td>\n",
       "    </tr>\n",
       "    <tr>\n",
       "      <th>4</th>\n",
       "      <td>2011-01-01 04:00:00</td>\n",
       "      <td>1</td>\n",
       "      <td>0</td>\n",
       "      <td>0</td>\n",
       "      <td>1</td>\n",
       "      <td>9.84</td>\n",
       "      <td>14.395</td>\n",
       "      <td>75</td>\n",
       "      <td>0.0</td>\n",
       "      <td>0</td>\n",
       "      <td>1</td>\n",
       "      <td>1</td>\n",
       "    </tr>\n",
       "  </tbody>\n",
       "</table>\n",
       "</div>"
      ],
      "text/plain": [
       "              datetime  season  holiday  workingday  weather  temp   atemp  \\\n",
       "0  2011-01-01 00:00:00       1        0           0        1  9.84  14.395   \n",
       "1  2011-01-01 01:00:00       1        0           0        1  9.02  13.635   \n",
       "2  2011-01-01 02:00:00       1        0           0        1  9.02  13.635   \n",
       "3  2011-01-01 03:00:00       1        0           0        1  9.84  14.395   \n",
       "4  2011-01-01 04:00:00       1        0           0        1  9.84  14.395   \n",
       "\n",
       "   humidity  windspeed  casual  registered  count  \n",
       "0        81        0.0       3          13     16  \n",
       "1        80        0.0       8          32     40  \n",
       "2        80        0.0       5          27     32  \n",
       "3        75        0.0       3          10     13  \n",
       "4        75        0.0       0           1      1  "
      ]
     },
     "execution_count": 4,
     "metadata": {},
     "output_type": "execute_result"
    }
   ],
   "source": [
    "# 학습 데이터 조회\n",
    "train.head()"
   ]
  },
  {
   "cell_type": "code",
   "execution_count": 5,
   "id": "4065c170",
   "metadata": {},
   "outputs": [
    {
     "data": {
      "text/html": [
       "<div>\n",
       "<style scoped>\n",
       "    .dataframe tbody tr th:only-of-type {\n",
       "        vertical-align: middle;\n",
       "    }\n",
       "\n",
       "    .dataframe tbody tr th {\n",
       "        vertical-align: top;\n",
       "    }\n",
       "\n",
       "    .dataframe thead th {\n",
       "        text-align: right;\n",
       "    }\n",
       "</style>\n",
       "<table border=\"1\" class=\"dataframe\">\n",
       "  <thead>\n",
       "    <tr style=\"text-align: right;\">\n",
       "      <th></th>\n",
       "      <th>datetime</th>\n",
       "      <th>season</th>\n",
       "      <th>holiday</th>\n",
       "      <th>workingday</th>\n",
       "      <th>weather</th>\n",
       "      <th>temp</th>\n",
       "      <th>atemp</th>\n",
       "      <th>humidity</th>\n",
       "      <th>windspeed</th>\n",
       "    </tr>\n",
       "  </thead>\n",
       "  <tbody>\n",
       "    <tr>\n",
       "      <th>0</th>\n",
       "      <td>2011-01-20 00:00:00</td>\n",
       "      <td>1</td>\n",
       "      <td>0</td>\n",
       "      <td>1</td>\n",
       "      <td>1</td>\n",
       "      <td>10.66</td>\n",
       "      <td>11.365</td>\n",
       "      <td>56</td>\n",
       "      <td>26.0027</td>\n",
       "    </tr>\n",
       "    <tr>\n",
       "      <th>1</th>\n",
       "      <td>2011-01-20 01:00:00</td>\n",
       "      <td>1</td>\n",
       "      <td>0</td>\n",
       "      <td>1</td>\n",
       "      <td>1</td>\n",
       "      <td>10.66</td>\n",
       "      <td>13.635</td>\n",
       "      <td>56</td>\n",
       "      <td>0.0000</td>\n",
       "    </tr>\n",
       "    <tr>\n",
       "      <th>2</th>\n",
       "      <td>2011-01-20 02:00:00</td>\n",
       "      <td>1</td>\n",
       "      <td>0</td>\n",
       "      <td>1</td>\n",
       "      <td>1</td>\n",
       "      <td>10.66</td>\n",
       "      <td>13.635</td>\n",
       "      <td>56</td>\n",
       "      <td>0.0000</td>\n",
       "    </tr>\n",
       "    <tr>\n",
       "      <th>3</th>\n",
       "      <td>2011-01-20 03:00:00</td>\n",
       "      <td>1</td>\n",
       "      <td>0</td>\n",
       "      <td>1</td>\n",
       "      <td>1</td>\n",
       "      <td>10.66</td>\n",
       "      <td>12.880</td>\n",
       "      <td>56</td>\n",
       "      <td>11.0014</td>\n",
       "    </tr>\n",
       "    <tr>\n",
       "      <th>4</th>\n",
       "      <td>2011-01-20 04:00:00</td>\n",
       "      <td>1</td>\n",
       "      <td>0</td>\n",
       "      <td>1</td>\n",
       "      <td>1</td>\n",
       "      <td>10.66</td>\n",
       "      <td>12.880</td>\n",
       "      <td>56</td>\n",
       "      <td>11.0014</td>\n",
       "    </tr>\n",
       "  </tbody>\n",
       "</table>\n",
       "</div>"
      ],
      "text/plain": [
       "              datetime  season  holiday  workingday  weather   temp   atemp  \\\n",
       "0  2011-01-20 00:00:00       1        0           1        1  10.66  11.365   \n",
       "1  2011-01-20 01:00:00       1        0           1        1  10.66  13.635   \n",
       "2  2011-01-20 02:00:00       1        0           1        1  10.66  13.635   \n",
       "3  2011-01-20 03:00:00       1        0           1        1  10.66  12.880   \n",
       "4  2011-01-20 04:00:00       1        0           1        1  10.66  12.880   \n",
       "\n",
       "   humidity  windspeed  \n",
       "0        56    26.0027  \n",
       "1        56     0.0000  \n",
       "2        56     0.0000  \n",
       "3        56    11.0014  \n",
       "4        56    11.0014  "
      ]
     },
     "execution_count": 5,
     "metadata": {},
     "output_type": "execute_result"
    }
   ],
   "source": [
    "# 평가 데이터 조회\n",
    "test.head()"
   ]
  },
  {
   "cell_type": "markdown",
   "id": "206711e0",
   "metadata": {},
   "source": [
    "# V0. timestamp 변환"
   ]
  },
  {
   "cell_type": "code",
   "execution_count": 6,
   "id": "a44043fb",
   "metadata": {},
   "outputs": [],
   "source": [
    "train['datetime'] = pd.to_datetime(train['datetime'])\n",
    "test['datetime'] = pd.to_datetime(test['datetime'])\n",
    "\n",
    "train['year']=train['datetime'].dt.year\n",
    "train['month']=train['datetime'].dt.month\n",
    "train['day']=train['datetime'].dt.day\n",
    "train['hour']=train['datetime'].dt.hour\n",
    "train['quarter']=train['datetime'].dt.quarter\n",
    "train['weekday']=train['datetime'].dt.weekday\n",
    "\n",
    "test['year']= test['datetime'].dt.year\n",
    "test['month']= test['datetime'].dt.month\n",
    "test['day']= test['datetime'].dt.day\n",
    "test['hour']= test['datetime'].dt.hour\n",
    "test['quarter']= test['datetime'].dt.quarter\n",
    "test['weekday']= test['datetime'].dt.weekday"
   ]
  },
  {
   "cell_type": "code",
   "execution_count": null,
   "id": "b274640b",
   "metadata": {},
   "outputs": [],
   "source": [
    "train.head()"
   ]
  },
  {
   "cell_type": "code",
   "execution_count": 7,
   "id": "ffcda625",
   "metadata": {},
   "outputs": [],
   "source": [
    "from sklearn.model_selection import train_test_split\n",
    "from sklearn.ensemble import RandomForestRegressor\n",
    "features = [\n",
    "    'season',\n",
    "    'holiday',\n",
    "    'workingday',\n",
    "    'weather',\n",
    "    'temp',\n",
    "    'atemp',\n",
    "    'humidity',\n",
    "    'windspeed',\n",
    "    'year',\n",
    "    'hour',\n",
    "    'quarter'\n",
    "]\n",
    "\n",
    "X = train[features]\n",
    "Y = train['count']\n",
    "\n",
    "x_train, x_test, y_train, y_test = train_test_split(X,Y, random_state=0)\n",
    "model = RandomForestRegressor(random_state=123).fit(x_train, y_train)"
   ]
  },
  {
   "cell_type": "code",
   "execution_count": null,
   "id": "8ef5df9d",
   "metadata": {},
   "outputs": [],
   "source": [
    "submission['count'] = model.predict(test[features])# test.csv를 예측한 결과 대입\n",
    "cds.submit(submission) # 제출 파일 생성 및 결과 제출"
   ]
  },
  {
   "cell_type": "markdown",
   "id": "5f841645-1ce2-4195-9f17-363fc1772ccc",
   "metadata": {},
   "source": [
    "# Y Log변환 "
   ]
  },
  {
   "cell_type": "code",
   "execution_count": 8,
   "id": "f2278464-e12e-4caf-aa29-fcc21cc92689",
   "metadata": {},
   "outputs": [
    {
     "data": {
      "text/plain": [
       "<AxesSubplot:xlabel='count', ylabel='Count'>"
      ]
     },
     "execution_count": 8,
     "metadata": {},
     "output_type": "execute_result"
    },
    {
     "data": {
      "image/png": "[encoded data removed]",
      "text/plain": [
       "<Figure size 432x288 with 1 Axes>"
      ]
     },
     "metadata": {
      "needs_background": "light"
     },
     "output_type": "display_data"
    }
   ],
   "source": [
    "sns.histplot(train['count'])"
   ]
  },
  {
   "cell_type": "code",
   "execution_count": 9,
   "id": "f608f807-98e4-4ad1-8e5b-c4a4da495788",
   "metadata": {},
   "outputs": [
    {
     "data": {
      "text/plain": [
       "<AxesSubplot:xlabel='count', ylabel='Count'>"
      ]
     },
     "execution_count": 9,
     "metadata": {},
     "output_type": "execute_result"
    },
    {
     "data": {
      "image/png": "[encoded data removed]",
      "text/plain": [
       "<Figure size 432x288 with 1 Axes>"
      ]
     },
     "metadata": {
      "needs_background": "light"
     },
     "output_type": "display_data"
    }
   ],
   "source": [
    "Y_log = np.log(train['count'])\n",
    "sns.histplot(Y_log)"
   ]
  },
  {
   "cell_type": "code",
   "execution_count": 10,
   "id": "27856dda-3dad-4840-95d4-be481b236f5e",
   "metadata": {},
   "outputs": [
    {
     "data": {
      "text/plain": [
       "<AxesSubplot:xlabel='count', ylabel='Count'>"
      ]
     },
     "execution_count": 10,
     "metadata": {},
     "output_type": "execute_result"
    },
    {
     "data": {
      "image/png": "[encoded data removed]",
      "text/plain": [
       "<Figure size 432x288 with 1 Axes>"
      ]
     },
     "metadata": {
      "needs_background": "light"
     },
     "output_type": "display_data"
    }
   ],
   "source": [
    "sns.histplot(np.exp(Y_log))"
   ]
  },
  {
   "cell_type": "code",
   "execution_count": null,
   "id": "eba9c25b-8e19-4510-8475-78647f07bc77",
   "metadata": {},
   "outputs": [],
   "source": [
    "X = train[features]\n",
    "Y =  np.log(train['count'])\n",
    "x_train, x_test, y_train, y_test = train_test_split(X,Y,random_state=0)\n",
    "\n",
    "model = RandomForestRegressor(random_state=123).fit(x_train, y_train)"
   ]
  },
  {
   "cell_type": "code",
   "execution_count": null,
   "id": "8f03875d-b064-4a5c-afe4-8bda3514c30f",
   "metadata": {},
   "outputs": [],
   "source": [
    "submission['count'] = np.exp(model.predict(test[features]))# test.csv를 예측한 결과 대입\n",
    "submission"
   ]
  },
  {
   "cell_type": "code",
   "execution_count": null,
   "id": "8ccfdf12-fb55-4da0-a499-f3bab815c1d6",
   "metadata": {},
   "outputs": [],
   "source": [
    "cds.submit(submission) # 제출 파일 생성 및 결과 제출"
   ]
  },
  {
   "cell_type": "markdown",
   "id": "39588a9e-27be-4442-9355-11bca3658ddb",
   "metadata": {},
   "source": [
    "# Casual + registered = count"
   ]
  },
  {
   "cell_type": "code",
   "execution_count": null,
   "id": "a7e75814-32d5-411b-8a89-41b7ee2e9582",
   "metadata": {},
   "outputs": [],
   "source": [
    "X = train[features]\n",
    "Y1 = np.log1p(train['registered'])\n",
    "Y2 = np.log1p(train['casual'])"
   ]
  },
  {
   "cell_type": "code",
   "execution_count": null,
   "id": "a6c3e536-2dda-434a-88b6-db78fc49031c",
   "metadata": {},
   "outputs": [],
   "source": [
    "from xgboost import XGBRegressor\n",
    "\n",
    "reg = XGBRegressor(n_estimators=1000, learning_rate=0.01, n_jobs=-1, subsample=0.54, random_state=0).fit(X, Y1)\n",
    "cas = XGBRegressor(n_estimators=1000, learning_rate=0.01, n_jobs=-1, subsample=0.54, random_state=0).fit(X, Y2)"
   ]
  },
  {
   "cell_type": "code",
   "execution_count": null,
   "id": "b3101d32-0618-4748-859c-80ed96d2f4e5",
   "metadata": {},
   "outputs": [],
   "source": [
    "submission['count'] = np.expm1(reg.predict(test[features])) + np.expm1(cas.predict(test[features]))\n",
    "cds.submit(submission) "
   ]
  },
  {
   "cell_type": "code",
   "execution_count": null,
   "id": "4a04e266",
   "metadata": {},
   "outputs": [],
   "source": []
  }
 ],
 "metadata": {
  "kernelspec": {
   "display_name": "Python 3 (ipykernel)",
   "language": "python",
   "name": "python3"
  },
  "language_info": {
   "codemirror_mode": {
    "name": "ipython",
    "version": 3
   },
   "file_extension": ".py",
   "mimetype": "text/x-python",
   "name": "python",
   "nbconvert_exporter": "python",
   "pygments_lexer": "ipython3",
   "version": "3.8.0"
  }
 },
 "nbformat": 4,
 "nbformat_minor": 5
}
