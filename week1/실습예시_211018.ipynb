{
 "cells": [
  {
   "cell_type": "code",
   "execution_count": 1,
   "metadata": {},
   "outputs": [
    {
     "data": {
      "text/html": [
       "<style>\n",
       "div.container { width:100% !important; }\n",
       "div.CodeMirror {font-family: Consolas; font-size: 17pt;}\n",
       "div.output { font-weight: bold; font-size: 17pt;}\n",
       "div.input { font-family: Consolas; font-size: 17pt;}\n",
       "div.prompt { min-width: 100px;}\n",
       "</style>\n"
      ],
      "text/plain": [
       "<IPython.core.display.HTML object>"
      ]
     },
     "metadata": {},
     "output_type": "display_data"
    }
   ],
   "source": [
    "from IPython.core.display import display, HTML\n",
    "display(HTML(\n",
    "\"\"\"<style>\n",
    "div.container { width:100% !important; }\n",
    "div.CodeMirror {font-family: Consolas; font-size: 17pt;}\n",
    "div.output { font-weight: bold; font-size: 17pt;}\n",
    "div.input { font-family: Consolas; font-size: 17pt;}\n",
    "div.prompt { min-width: 100px;}\n",
    "</style>\n",
    "\"\"\"))"
   ]
  },
  {
   "cell_type": "markdown",
   "metadata": {},
   "source": [
    "# 연습문제"
   ]
  },
  {
   "cell_type": "code",
   "execution_count": 5,
   "metadata": {},
   "outputs": [
    {
     "data": {
      "text/plain": [
       "'1'"
      ]
     },
     "execution_count": 5,
     "metadata": {},
     "output_type": "execute_result"
    }
   ],
   "source": [
    "#문자열 '210101-1234567'을 인덱싱하여 성별을 나타내는 숫자를 출력하세요.\n",
    "val = '210101-1234567'\n",
    "val[1]"
   ]
  },
  {
   "cell_type": "code",
   "execution_count": 4,
   "metadata": {},
   "outputs": [
    {
     "data": {
      "text/plain": [
       "'Sunny'"
      ]
     },
     "execution_count": 4,
     "metadata": {},
     "output_type": "execute_result"
    }
   ],
   "source": [
    "#문자열 '20210101Sunny'를 슬라이싱하여 날짜는 date, 날씨는 weather변수에 저장 후 출력하세요.\n",
    "val2 = '20210101Sunny'\n",
    "date = val2[0:8] # val2[0]+val2[1]+val2[2]+val2[3]+val2[4]+val2[5]+val2[6]+val2[7]\n",
    "weather = val2[8:]\n",
    "weather"
   ]
  },
  {
   "cell_type": "code",
   "execution_count": 24,
   "metadata": {},
   "outputs": [
    {
     "name": "stdout",
     "output_type": "stream",
     "text": [
      "alpabet = abcde\n",
      "alpabet[:] = abcde\n",
      "alpabet[1:5] = bcde\n",
      "alpabet[3:] = de\n",
      "\n",
      "alpabet[::-1] = edcba\n",
      "alpabet[::-2] = eca\n",
      "\n",
      "alpabet[1::-1] = ba\n"
     ]
    }
   ],
   "source": [
    "# alpabet[시작인덱스:종료인덱스:순서(- 시, 역순)]\n",
    "\n",
    "alpabet = 'abcde'\n",
    "print('alpabet =', alpabet)\n",
    "print('alpabet[:] =', alpabet[:])\n",
    "print('alpabet[1:5] =', alpabet[1:5])\n",
    "print('alpabet[3:] =', alpabet[3:])\n",
    "print()\n",
    "print('alpabet[::-1] =', alpabet[::-1])\n",
    "print('alpabet[::-2] =', alpabet[::-2])\n",
    "print()\n",
    "print('alpabet[1::-1] =', alpabet[1::-1])"
   ]
  },
  {
   "cell_type": "code",
   "execution_count": 30,
   "metadata": {},
   "outputs": [
    {
     "name": "stdout",
     "output_type": "stream",
     "text": [
      "<class 'dict'>\n"
     ]
    },
    {
     "data": {
      "text/plain": [
       "{'a': 1, 'b': 2}"
      ]
     },
     "execution_count": 30,
     "metadata": {},
     "output_type": "execute_result"
    }
   ],
   "source": [
    "#list, tuple, set, dictonary\n",
    "#[]     (,)   {}   {키:값}\n",
    "seq1 = [1, 2, 3, 4]\n",
    "seq2 = (1, 2, 3, 4)\n",
    "seq3 = {1, 2, 3}\n",
    "seq4 = {'a':1, 'b':2}\n",
    "print(type(seq4))\n",
    "seq4"
   ]
  },
  {
   "cell_type": "code",
   "execution_count": 31,
   "metadata": {},
   "outputs": [],
   "source": [
    "# 리스트 연습문제\n",
    "# 1) [1,3,5,4,2] 슬라이싱 -> [2,4,5,3,1]\n",
    "list1 = [1,3,5,4,2]"
   ]
  },
  {
   "cell_type": "code",
   "execution_count": 33,
   "metadata": {},
   "outputs": [
    {
     "data": {
      "text/plain": [
       "[2, 4, 5, 3, 1]"
      ]
     },
     "execution_count": 33,
     "metadata": {},
     "output_type": "execute_result"
    }
   ],
   "source": [
    "list1[::-1]"
   ]
  },
  {
   "cell_type": "code",
   "execution_count": 37,
   "metadata": {},
   "outputs": [
    {
     "data": {
      "text/plain": [
       "['Python', 'is', 'too', 'interesting']"
      ]
     },
     "execution_count": 37,
     "metadata": {},
     "output_type": "execute_result"
    }
   ],
   "source": [
    "# 2) ['Python', 'is', 'too' 'interesting'] -> 'Python is too interesting'\n",
    "list2 = ['Python', 'is', 'too', 'interesting']\n",
    "list2"
   ]
  },
  {
   "cell_type": "code",
   "execution_count": 42,
   "metadata": {},
   "outputs": [
    {
     "data": {
      "text/plain": [
       "'Python is too interesting'"
      ]
     },
     "execution_count": 42,
     "metadata": {},
     "output_type": "execute_result"
    }
   ],
   "source": [
    "' '.join(list2)"
   ]
  },
  {
   "cell_type": "code",
   "execution_count": null,
   "metadata": {},
   "outputs": [],
   "source": [
    "    "
   ]
  },
  {
   "cell_type": "code",
   "execution_count": 49,
   "metadata": {},
   "outputs": [
    {
     "data": {
      "text/plain": [
       "[1, 1, 2, 2, 3, 4, 4, 5, 6, 7, 2]"
      ]
     },
     "execution_count": 49,
     "metadata": {},
     "output_type": "execute_result"
    }
   ],
   "source": [
    "a = [1,1,2,2,3,4,4,5,6,7,2]\n",
    "a"
   ]
  },
  {
   "cell_type": "code",
   "execution_count": 50,
   "metadata": {},
   "outputs": [
    {
     "data": {
      "text/plain": [
       "{1, 2, 3, 4, 5, 6, 7}"
      ]
     },
     "execution_count": 50,
     "metadata": {},
     "output_type": "execute_result"
    }
   ],
   "source": [
    "set(a)"
   ]
  },
  {
   "cell_type": "code",
   "execution_count": 57,
   "metadata": {},
   "outputs": [
    {
     "data": {
      "text/plain": [
       "[7, 6, 5, 4, 3, 2, 1]"
      ]
     },
     "execution_count": 57,
     "metadata": {},
     "output_type": "execute_result"
    }
   ],
   "source": [
    "list(set(a))[::-1]"
   ]
  },
  {
   "cell_type": "code",
   "execution_count": 64,
   "metadata": {},
   "outputs": [
    {
     "data": {
      "text/plain": [
       "[1, 2, 3, 4, 5, 6, 7]"
      ]
     },
     "execution_count": 64,
     "metadata": {},
     "output_type": "execute_result"
    }
   ],
   "source": [
    "a=[1,1,2,2,3,4,4,5,6,7,2]\n",
    "set(a)\n",
    "b=list(set(a))\n",
    "b"
   ]
  },
  {
   "cell_type": "code",
   "execution_count": 5,
   "metadata": {},
   "outputs": [
    {
     "name": "stdout",
     "output_type": "stream",
     "text": [
      "키: 200\n",
      "몸무게: 50\n",
      "당신은 비만이 아닙니다\n"
     ]
    }
   ],
   "source": [
    "# (몸무게 + 100 - 키) => 비만수치공식\n",
    "키 = input(\"키: \")\n",
    "몸무게 = input(\"몸무게: \")\n",
    "\n",
    "비만수치 = int(몸무게) + 100 - int(키)\n",
    "if 비만수치 > 0:\n",
    "    #0보다 크면\n",
    "    print(\"당신은 비만입니다\")\n",
    "else:\n",
    "    #그렇지 않으면\n",
    "    print(\"당신은 비만이 아닙니다\")"
   ]
  },
  {
   "cell_type": "code",
   "execution_count": 3,
   "metadata": {},
   "outputs": [
    {
     "name": "stdout",
     "output_type": "stream",
     "text": [
      "2550\n"
     ]
    }
   ],
   "source": [
    "# while반복문 연습문제\n",
    "# 1부터 100까지의 숫자중에서 짝수의 합을 출력\n",
    "total, num = 0, 0\n",
    "while num <= 100:\n",
    "    if num%2 == 0:\n",
    "        total += num #total = total + num\n",
    "    num += 1\n",
    "print(total)"
   ]
  },
  {
   "cell_type": "code",
   "execution_count": 6,
   "metadata": {},
   "outputs": [
    {
     "name": "stdout",
     "output_type": "stream",
     "text": [
      "*\n",
      "**\n",
      "***\n",
      "****\n",
      "*****\n",
      "6\n"
     ]
    }
   ],
   "source": [
    "# 별 출력\n",
    "num = 1\n",
    "while num <= 5:\n",
    "    print('*'*num)\n",
    "    num += 1\n",
    "print(num)"
   ]
  },
  {
   "cell_type": "code",
   "execution_count": null,
   "metadata": {},
   "outputs": [],
   "source": []
  },
  {
   "cell_type": "code",
   "execution_count": null,
   "metadata": {},
   "outputs": [],
   "source": []
  }
 ],
 "metadata": {
  "kernelspec": {
   "display_name": "Python 3",
   "language": "python",
   "name": "python3"
  },
  "language_info": {
   "codemirror_mode": {
    "name": "ipython",
    "version": 3
   },
   "file_extension": ".py",
   "mimetype": "text/x-python",
   "name": "python",
   "nbconvert_exporter": "python",
   "pygments_lexer": "ipython3",
   "version": "3.6.6"
  }
 },
 "nbformat": 4,
 "nbformat_minor": 2
}
