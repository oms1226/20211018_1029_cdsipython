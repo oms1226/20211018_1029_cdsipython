{
 "cells": [
  {
   "cell_type": "markdown",
   "metadata": {
    "id": "gpqrISAdcZNp"
   },
   "source": [
    "# 계단오르내리기 예제"
   ]
  },
  {
   "cell_type": "code",
   "execution_count": 2,
   "metadata": {
    "executionInfo": {
     "elapsed": 329,
     "status": "ok",
     "timestamp": 1634478396576,
     "user": {
      "displayName": "Jiwon Kim",
      "photoUrl": "https://lh3.googleusercontent.com/a/default-user=s64",
      "userId": "06389781311941488812"
     },
     "user_tz": -540
    },
    "id": "MD8UdMFocZNu"
   },
   "outputs": [],
   "source": [
    "import numpy as np \n",
    "np.random.seed(888)"
   ]
  },
  {
   "cell_type": "markdown",
   "metadata": {},
   "source": [
    "- randint 함수를 사용하여 1000개의 랜덤값 생성 (0=계단 내려감, 1=계단 올라감)"
   ]
  },
  {
   "cell_type": "code",
   "execution_count": 3,
   "metadata": {
    "colab": {
     "base_uri": "https://localhost:8080/"
    },
    "executionInfo": {
     "elapsed": 21,
     "status": "ok",
     "timestamp": 1634478397166,
     "user": {
      "displayName": "Jiwon Kim",
      "photoUrl": "https://lh3.googleusercontent.com/a/default-user=s64",
      "userId": "06389781311941488812"
     },
     "user_tz": -540
    },
    "id": "1_3hwMZ0cZNw",
    "outputId": "d39da0d8-372e-4387-e335-37aa3a5517d4"
   },
   "outputs": [
    {
     "data": {
      "text/plain": [
       "array([0, 0, 1, 1, 0, 1, 1, 0, 1, 0, 1, 1, 0, 1, 0, 0, 1, 1, 0, 0, 0, 1,\n",
       "       0, 0, 0, 0, 1, 0, 1, 1, 0, 0, 0, 1, 0, 0, 1, 1, 0, 0, 0, 0, 1, 1,\n",
       "       0, 0, 0, 0, 1, 1, 0, 1, 1, 0, 0, 0, 0, 1, 0, 0, 0, 0, 0, 1, 0, 1,\n",
       "       1, 0, 0, 1, 1, 1, 0, 0, 1, 0, 0, 0, 1, 0, 1, 0, 0, 1, 0, 0, 0, 0,\n",
       "       1, 1, 1, 1, 0, 0, 1, 0, 1, 0, 0, 0, 1, 1, 1, 0, 0, 1, 1, 0, 0, 1,\n",
       "       1, 0, 0, 0, 0, 1, 1, 0, 0, 0, 0, 1, 1, 0, 1, 0, 1, 0, 1, 0, 0, 0,\n",
       "       0, 1, 1, 1, 0, 1, 1, 0, 1, 1, 1, 1, 1, 0, 0, 1, 1, 1, 0, 1, 1, 1,\n",
       "       1, 0, 1, 1, 1, 0, 0, 0, 0, 1, 0, 1, 1, 0, 0, 1, 0, 1, 0, 0, 1, 1,\n",
       "       0, 0, 0, 1, 1, 0, 1, 0, 0, 0, 0, 1, 0, 0, 0, 1, 0, 1, 0, 0, 0, 1,\n",
       "       0, 0, 1, 0, 1, 1, 0, 1, 0, 0, 1, 0, 1, 1, 0, 0, 1, 1, 1, 0, 0, 1,\n",
       "       0, 0, 1, 1, 0, 1, 1, 0, 0, 0, 0, 0, 0, 1, 0, 0, 1, 1, 1, 1, 0, 1,\n",
       "       1, 1, 1, 1, 0, 0, 0, 0, 0, 0, 0, 1, 0, 0, 1, 1, 1, 1, 0, 0, 1, 1,\n",
       "       1, 1, 1, 0, 0, 0, 0, 0, 1, 1, 0, 0, 0, 0, 1, 1, 0, 0, 1, 1, 0, 1,\n",
       "       0, 0, 0, 1, 0, 1, 1, 1, 0, 0, 0, 0, 1, 0, 0, 1, 1, 0, 0, 0, 1, 1,\n",
       "       0, 0, 1, 0, 1, 1, 0, 1, 0, 1, 1, 0, 1, 0, 0, 0, 0, 1, 1, 0, 1, 0,\n",
       "       1, 1, 1, 0, 0, 1, 1, 1, 1, 0, 0, 0, 0, 1, 0, 1, 1, 1, 0, 1, 1, 0,\n",
       "       0, 0, 1, 0, 0, 0, 1, 1, 1, 1, 0, 1, 0, 0, 0, 0, 0, 1, 1, 1, 0, 1,\n",
       "       0, 0, 1, 1, 0, 1, 0, 0, 1, 0, 1, 1, 0, 1, 0, 0, 0, 1, 0, 0, 1, 1,\n",
       "       1, 0, 1, 1, 1, 0, 0, 1, 0, 1, 1, 0, 0, 1, 0, 1, 1, 0, 0, 0, 0, 1,\n",
       "       0, 0, 0, 0, 1, 1, 1, 1, 1, 0, 0, 1, 1, 1, 1, 0, 0, 1, 1, 1, 1, 1,\n",
       "       1, 0, 0, 0, 0, 0, 0, 1, 1, 1, 1, 0, 0, 1, 0, 1, 0, 1, 1, 1, 0, 1,\n",
       "       1, 0, 1, 1, 0, 1, 1, 0, 0, 1, 0, 1, 1, 0, 1, 0, 0, 0, 1, 0, 0, 0,\n",
       "       0, 0, 1, 1, 1, 1, 0, 1, 1, 0, 1, 0, 0, 1, 1, 0, 1, 1, 0, 0, 0, 0,\n",
       "       0, 1, 0, 1, 1, 1, 0, 1, 0, 1, 1, 0, 0, 1, 1, 0, 0, 1, 0, 1, 1, 0,\n",
       "       1, 1, 0, 0, 1, 0, 1, 1, 0, 0, 1, 1, 1, 1, 1, 0, 1, 1, 0, 0, 0, 0,\n",
       "       0, 0, 1, 0, 1, 0, 1, 1, 1, 0, 1, 1, 0, 0, 1, 1, 1, 1, 1, 1, 0, 1,\n",
       "       0, 1, 0, 0, 1, 0, 0, 1, 0, 0, 1, 0, 0, 0, 0, 1, 0, 1, 1, 0, 1, 0,\n",
       "       1, 1, 1, 0, 1, 0, 0, 1, 1, 1, 0, 1, 0, 0, 1, 0, 0, 1, 1, 0, 0, 1,\n",
       "       1, 1, 1, 0, 1, 1, 1, 1, 0, 1, 1, 0, 1, 0, 1, 1, 0, 1, 0, 0, 1, 1,\n",
       "       1, 0, 1, 1, 0, 1, 0, 0, 0, 1, 1, 1, 1, 0, 0, 1, 0, 0, 1, 1, 0, 0,\n",
       "       1, 0, 1, 0, 1, 1, 1, 0, 1, 1, 0, 0, 0, 1, 0, 1, 0, 0, 0, 1, 1, 1,\n",
       "       1, 1, 0, 1, 0, 1, 0, 0, 0, 0, 0, 0, 1, 0, 1, 1, 0, 0, 1, 1, 0, 0,\n",
       "       1, 0, 1, 0, 0, 1, 0, 0, 0, 1, 1, 0, 0, 0, 1, 0, 1, 1, 0, 1, 0, 1,\n",
       "       1, 0, 0, 1, 0, 1, 0, 1, 0, 1, 0, 0, 1, 0, 1, 0, 0, 1, 1, 1, 1, 1,\n",
       "       1, 1, 1, 0, 1, 1, 0, 0, 1, 0, 0, 0, 0, 1, 0, 0, 1, 0, 1, 1, 1, 0,\n",
       "       1, 1, 0, 1, 0, 1, 0, 0, 0, 1, 1, 0, 0, 1, 0, 0, 1, 1, 1, 1, 0, 1,\n",
       "       1, 0, 0, 0, 1, 1, 0, 1, 0, 0, 0, 1, 0, 1, 0, 1, 1, 0, 0, 0, 1, 1,\n",
       "       1, 1, 0, 1, 1, 0, 0, 1, 1, 1, 1, 1, 0, 1, 1, 0, 1, 1, 1, 0, 0, 1,\n",
       "       1, 0, 0, 0, 0, 0, 1, 0, 1, 1, 0, 1, 1, 0, 0, 1, 1, 1, 0, 0, 1, 1,\n",
       "       0, 0, 1, 1, 1, 0, 1, 1, 0, 1, 1, 1, 0, 0, 1, 0, 0, 0, 1, 0, 1, 1,\n",
       "       1, 0, 0, 0, 0, 1, 1, 0, 1, 1, 1, 1, 1, 0, 1, 0, 1, 0, 1, 1, 1, 0,\n",
       "       0, 0, 0, 0, 0, 1, 0, 0, 0, 1, 1, 1, 1, 0, 1, 0, 1, 0, 1, 1, 0, 0,\n",
       "       1, 1, 1, 1, 0, 0, 1, 0, 0, 1, 1, 0, 1, 1, 1, 0, 1, 1, 0, 1, 0, 0,\n",
       "       1, 1, 0, 0, 0, 0, 0, 1, 0, 1, 1, 0, 0, 1, 1, 0, 0, 0, 1, 0, 0, 1,\n",
       "       1, 0, 0, 1, 1, 0, 0, 1, 0, 0, 0, 1, 1, 0, 1, 0, 0, 1, 0, 1, 1, 0,\n",
       "       0, 0, 0, 0, 1, 1, 0, 1, 0, 1])"
      ]
     },
     "execution_count": 3,
     "metadata": {},
     "output_type": "execute_result"
    }
   ],
   "source": [
    "draws = np.random.randint(0,2,size=1000) \n",
    "draws"
   ]
  },
  {
   "cell_type": "markdown",
   "metadata": {},
   "source": [
    "- draws 값이 0인 경우 -1로 변경 후(숫자를 감소시키기 위해), steps 변수에 저장 (Hint: np.where)"
   ]
  },
  {
   "cell_type": "code",
   "execution_count": 4,
   "metadata": {
    "colab": {
     "base_uri": "https://localhost:8080/"
    },
    "executionInfo": {
     "elapsed": 20,
     "status": "ok",
     "timestamp": 1634478397167,
     "user": {
      "displayName": "Jiwon Kim",
      "photoUrl": "https://lh3.googleusercontent.com/a/default-user=s64",
      "userId": "06389781311941488812"
     },
     "user_tz": -540
    },
    "id": "P6T1nW1icZNy",
    "outputId": "59f80ce6-e465-4e31-a096-9e57e1ee1a65"
   },
   "outputs": [],
   "source": [
    "steps = np.where(draws == 0, -1, draws)"
   ]
  },
  {
   "cell_type": "code",
   "execution_count": 5,
   "metadata": {},
   "outputs": [
    {
     "data": {
      "text/plain": [
       "array([-1, -1,  1,  1, -1,  1,  1, -1,  1, -1,  1,  1, -1,  1, -1, -1,  1,\n",
       "        1, -1, -1, -1,  1, -1, -1, -1, -1,  1, -1,  1,  1, -1, -1, -1,  1,\n",
       "       -1, -1,  1,  1, -1, -1, -1, -1,  1,  1, -1, -1, -1, -1,  1,  1, -1,\n",
       "        1,  1, -1, -1, -1, -1,  1, -1, -1, -1, -1, -1,  1, -1,  1,  1, -1,\n",
       "       -1,  1,  1,  1, -1, -1,  1, -1, -1, -1,  1, -1,  1, -1, -1,  1, -1,\n",
       "       -1, -1, -1,  1,  1,  1,  1, -1, -1,  1, -1,  1, -1, -1, -1,  1,  1,\n",
       "        1, -1, -1,  1,  1, -1, -1,  1,  1, -1, -1, -1, -1,  1,  1, -1, -1,\n",
       "       -1, -1,  1,  1, -1,  1, -1,  1, -1,  1, -1, -1, -1, -1,  1,  1,  1,\n",
       "       -1,  1,  1, -1,  1,  1,  1,  1,  1, -1, -1,  1,  1,  1, -1,  1,  1,\n",
       "        1,  1, -1,  1,  1,  1, -1, -1, -1, -1,  1, -1,  1,  1, -1, -1,  1,\n",
       "       -1,  1, -1, -1,  1,  1, -1, -1, -1,  1,  1, -1,  1, -1, -1, -1, -1,\n",
       "        1, -1, -1, -1,  1, -1,  1, -1, -1, -1,  1, -1, -1,  1, -1,  1,  1,\n",
       "       -1,  1, -1, -1,  1, -1,  1,  1, -1, -1,  1,  1,  1, -1, -1,  1, -1,\n",
       "       -1,  1,  1, -1,  1,  1, -1, -1, -1, -1, -1, -1,  1, -1, -1,  1,  1,\n",
       "        1,  1, -1,  1,  1,  1,  1,  1, -1, -1, -1, -1, -1, -1, -1,  1, -1,\n",
       "       -1,  1,  1,  1,  1, -1, -1,  1,  1,  1,  1,  1, -1, -1, -1, -1, -1,\n",
       "        1,  1, -1, -1, -1, -1,  1,  1, -1, -1,  1,  1, -1,  1, -1, -1, -1,\n",
       "        1, -1,  1,  1,  1, -1, -1, -1, -1,  1, -1, -1,  1,  1, -1, -1, -1,\n",
       "        1,  1, -1, -1,  1, -1,  1,  1, -1,  1, -1,  1,  1, -1,  1, -1, -1,\n",
       "       -1, -1,  1,  1, -1,  1, -1,  1,  1,  1, -1, -1,  1,  1,  1,  1, -1,\n",
       "       -1, -1, -1,  1, -1,  1,  1,  1, -1,  1,  1, -1, -1, -1,  1, -1, -1,\n",
       "       -1,  1,  1,  1,  1, -1,  1, -1, -1, -1, -1, -1,  1,  1,  1, -1,  1,\n",
       "       -1, -1,  1,  1, -1,  1, -1, -1,  1, -1,  1,  1, -1,  1, -1, -1, -1,\n",
       "        1, -1, -1,  1,  1,  1, -1,  1,  1,  1, -1, -1,  1, -1,  1,  1, -1,\n",
       "       -1,  1, -1,  1,  1, -1, -1, -1, -1,  1, -1, -1, -1, -1,  1,  1,  1,\n",
       "        1,  1, -1, -1,  1,  1,  1,  1, -1, -1,  1,  1,  1,  1,  1,  1, -1,\n",
       "       -1, -1, -1, -1, -1,  1,  1,  1,  1, -1, -1,  1, -1,  1, -1,  1,  1,\n",
       "        1, -1,  1,  1, -1,  1,  1, -1,  1,  1, -1, -1,  1, -1,  1,  1, -1,\n",
       "        1, -1, -1, -1,  1, -1, -1, -1, -1, -1,  1,  1,  1,  1, -1,  1,  1,\n",
       "       -1,  1, -1, -1,  1,  1, -1,  1,  1, -1, -1, -1, -1, -1,  1, -1,  1,\n",
       "        1,  1, -1,  1, -1,  1,  1, -1, -1,  1,  1, -1, -1,  1, -1,  1,  1,\n",
       "       -1,  1,  1, -1, -1,  1, -1,  1,  1, -1, -1,  1,  1,  1,  1,  1, -1,\n",
       "        1,  1, -1, -1, -1, -1, -1, -1,  1, -1,  1, -1,  1,  1,  1, -1,  1,\n",
       "        1, -1, -1,  1,  1,  1,  1,  1,  1, -1,  1, -1,  1, -1, -1,  1, -1,\n",
       "       -1,  1, -1, -1,  1, -1, -1, -1, -1,  1, -1,  1,  1, -1,  1, -1,  1,\n",
       "        1,  1, -1,  1, -1, -1,  1,  1,  1, -1,  1, -1, -1,  1, -1, -1,  1,\n",
       "        1, -1, -1,  1,  1,  1,  1, -1,  1,  1,  1,  1, -1,  1,  1, -1,  1,\n",
       "       -1,  1,  1, -1,  1, -1, -1,  1,  1,  1, -1,  1,  1, -1,  1, -1, -1,\n",
       "       -1,  1,  1,  1,  1, -1, -1,  1, -1, -1,  1,  1, -1, -1,  1, -1,  1,\n",
       "       -1,  1,  1,  1, -1,  1,  1, -1, -1, -1,  1, -1,  1, -1, -1, -1,  1,\n",
       "        1,  1,  1,  1, -1,  1, -1,  1, -1, -1, -1, -1, -1, -1,  1, -1,  1,\n",
       "        1, -1, -1,  1,  1, -1, -1,  1, -1,  1, -1, -1,  1, -1, -1, -1,  1,\n",
       "        1, -1, -1, -1,  1, -1,  1,  1, -1,  1, -1,  1,  1, -1, -1,  1, -1,\n",
       "        1, -1,  1, -1,  1, -1, -1,  1, -1,  1, -1, -1,  1,  1,  1,  1,  1,\n",
       "        1,  1,  1, -1,  1,  1, -1, -1,  1, -1, -1, -1, -1,  1, -1, -1,  1,\n",
       "       -1,  1,  1,  1, -1,  1,  1, -1,  1, -1,  1, -1, -1, -1,  1,  1, -1,\n",
       "       -1,  1, -1, -1,  1,  1,  1,  1, -1,  1,  1, -1, -1, -1,  1,  1, -1,\n",
       "        1, -1, -1, -1,  1, -1,  1, -1,  1,  1, -1, -1, -1,  1,  1,  1,  1,\n",
       "       -1,  1,  1, -1, -1,  1,  1,  1,  1,  1, -1,  1,  1, -1,  1,  1,  1,\n",
       "       -1, -1,  1,  1, -1, -1, -1, -1, -1,  1, -1,  1,  1, -1,  1,  1, -1,\n",
       "       -1,  1,  1,  1, -1, -1,  1,  1, -1, -1,  1,  1,  1, -1,  1,  1, -1,\n",
       "        1,  1,  1, -1, -1,  1, -1, -1, -1,  1, -1,  1,  1,  1, -1, -1, -1,\n",
       "       -1,  1,  1, -1,  1,  1,  1,  1,  1, -1,  1, -1,  1, -1,  1,  1,  1,\n",
       "       -1, -1, -1, -1, -1, -1,  1, -1, -1, -1,  1,  1,  1,  1, -1,  1, -1,\n",
       "        1, -1,  1,  1, -1, -1,  1,  1,  1,  1, -1, -1,  1, -1, -1,  1,  1,\n",
       "       -1,  1,  1,  1, -1,  1,  1, -1,  1, -1, -1,  1,  1, -1, -1, -1, -1,\n",
       "       -1,  1, -1,  1,  1, -1, -1,  1,  1, -1, -1, -1,  1, -1, -1,  1,  1,\n",
       "       -1, -1,  1,  1, -1, -1,  1, -1, -1, -1,  1,  1, -1,  1, -1, -1,  1,\n",
       "       -1,  1,  1, -1, -1, -1, -1, -1,  1,  1, -1,  1, -1,  1])"
      ]
     },
     "execution_count": 5,
     "metadata": {},
     "output_type": "execute_result"
    }
   ],
   "source": [
    "steps"
   ]
  },
  {
   "cell_type": "markdown",
   "metadata": {},
   "source": [
    "- steps 배열의 누적합(cumsum) 계산 후 walk 변수에 저장(계단을 오르 내린 누적합)"
   ]
  },
  {
   "cell_type": "code",
   "execution_count": 6,
   "metadata": {
    "colab": {
     "base_uri": "https://localhost:8080/"
    },
    "executionInfo": {
     "elapsed": 18,
     "status": "ok",
     "timestamp": 1634478397167,
     "user": {
      "displayName": "Jiwon Kim",
      "photoUrl": "https://lh3.googleusercontent.com/a/default-user=s64",
      "userId": "06389781311941488812"
     },
     "user_tz": -540
    },
    "id": "s3OonYvLeff0",
    "outputId": "8989b184-0f93-4a01-a02e-8e95e3bf17f9"
   },
   "outputs": [],
   "source": [
    "walk = np.cumsum(steps)"
   ]
  },
  {
   "cell_type": "code",
   "execution_count": 7,
   "metadata": {},
   "outputs": [
    {
     "data": {
      "text/plain": [
       "array([ -1,  -2,  -1,   0,  -1,   0,   1,   0,   1,   0,   1,   2,   1,\n",
       "         2,   1,   0,   1,   2,   1,   0,  -1,   0,  -1,  -2,  -3,  -4,\n",
       "        -3,  -4,  -3,  -2,  -3,  -4,  -5,  -4,  -5,  -6,  -5,  -4,  -5,\n",
       "        -6,  -7,  -8,  -7,  -6,  -7,  -8,  -9, -10,  -9,  -8,  -9,  -8,\n",
       "        -7,  -8,  -9, -10, -11, -10, -11, -12, -13, -14, -15, -14, -15,\n",
       "       -14, -13, -14, -15, -14, -13, -12, -13, -14, -13, -14, -15, -16,\n",
       "       -15, -16, -15, -16, -17, -16, -17, -18, -19, -20, -19, -18, -17,\n",
       "       -16, -17, -18, -17, -18, -17, -18, -19, -20, -19, -18, -17, -18,\n",
       "       -19, -18, -17, -18, -19, -18, -17, -18, -19, -20, -21, -20, -19,\n",
       "       -20, -21, -22, -23, -22, -21, -22, -21, -22, -21, -22, -21, -22,\n",
       "       -23, -24, -25, -24, -23, -22, -23, -22, -21, -22, -21, -20, -19,\n",
       "       -18, -17, -18, -19, -18, -17, -16, -17, -16, -15, -14, -13, -14,\n",
       "       -13, -12, -11, -12, -13, -14, -15, -14, -15, -14, -13, -14, -15,\n",
       "       -14, -15, -14, -15, -16, -15, -14, -15, -16, -17, -16, -15, -16,\n",
       "       -15, -16, -17, -18, -19, -18, -19, -20, -21, -20, -21, -20, -21,\n",
       "       -22, -23, -22, -23, -24, -23, -24, -23, -22, -23, -22, -23, -24,\n",
       "       -23, -24, -23, -22, -23, -24, -23, -22, -21, -22, -23, -22, -23,\n",
       "       -24, -23, -22, -23, -22, -21, -22, -23, -24, -25, -26, -27, -26,\n",
       "       -27, -28, -27, -26, -25, -24, -25, -24, -23, -22, -21, -20, -21,\n",
       "       -22, -23, -24, -25, -26, -27, -26, -27, -28, -27, -26, -25, -24,\n",
       "       -25, -26, -25, -24, -23, -22, -21, -22, -23, -24, -25, -26, -25,\n",
       "       -24, -25, -26, -27, -28, -27, -26, -27, -28, -27, -26, -27, -26,\n",
       "       -27, -28, -29, -28, -29, -28, -27, -26, -27, -28, -29, -30, -29,\n",
       "       -30, -31, -30, -29, -30, -31, -32, -31, -30, -31, -32, -31, -32,\n",
       "       -31, -30, -31, -30, -31, -30, -29, -30, -29, -30, -31, -32, -33,\n",
       "       -32, -31, -32, -31, -32, -31, -30, -29, -30, -31, -30, -29, -28,\n",
       "       -27, -28, -29, -30, -31, -30, -31, -30, -29, -28, -29, -28, -27,\n",
       "       -28, -29, -30, -29, -30, -31, -32, -31, -30, -29, -28, -29, -28,\n",
       "       -29, -30, -31, -32, -33, -32, -31, -30, -31, -30, -31, -32, -31,\n",
       "       -30, -31, -30, -31, -32, -31, -32, -31, -30, -31, -30, -31, -32,\n",
       "       -33, -32, -33, -34, -33, -32, -31, -32, -31, -30, -29, -30, -31,\n",
       "       -30, -31, -30, -29, -30, -31, -30, -31, -30, -29, -30, -31, -32,\n",
       "       -33, -32, -33, -34, -35, -36, -35, -34, -33, -32, -31, -32, -33,\n",
       "       -32, -31, -30, -29, -30, -31, -30, -29, -28, -27, -26, -25, -26,\n",
       "       -27, -28, -29, -30, -31, -30, -29, -28, -27, -28, -29, -28, -29,\n",
       "       -28, -29, -28, -27, -26, -27, -26, -25, -26, -25, -24, -25, -24,\n",
       "       -23, -24, -25, -24, -25, -24, -23, -24, -23, -24, -25, -26, -25,\n",
       "       -26, -27, -28, -29, -30, -29, -28, -27, -26, -27, -26, -25, -26,\n",
       "       -25, -26, -27, -26, -25, -26, -25, -24, -25, -26, -27, -28, -29,\n",
       "       -28, -29, -28, -27, -26, -27, -26, -27, -26, -25, -26, -27, -26,\n",
       "       -25, -26, -27, -26, -27, -26, -25, -26, -25, -24, -25, -26, -25,\n",
       "       -26, -25, -24, -25, -26, -25, -24, -23, -22, -21, -22, -21, -20,\n",
       "       -21, -22, -23, -24, -25, -26, -25, -26, -25, -26, -25, -24, -23,\n",
       "       -24, -23, -22, -23, -24, -23, -22, -21, -20, -19, -18, -19, -18,\n",
       "       -19, -18, -19, -20, -19, -20, -21, -20, -21, -22, -21, -22, -23,\n",
       "       -24, -25, -24, -25, -24, -23, -24, -23, -24, -23, -22, -21, -22,\n",
       "       -21, -22, -23, -22, -21, -20, -21, -20, -21, -22, -21, -22, -23,\n",
       "       -22, -21, -22, -23, -22, -21, -20, -19, -20, -19, -18, -17, -16,\n",
       "       -17, -16, -15, -16, -15, -16, -15, -14, -15, -14, -15, -16, -15,\n",
       "       -14, -13, -14, -13, -12, -13, -12, -13, -14, -15, -14, -13, -12,\n",
       "       -11, -12, -13, -12, -13, -14, -13, -12, -13, -14, -13, -14, -13,\n",
       "       -14, -13, -12, -11, -12, -11, -10, -11, -12, -13, -12, -13, -12,\n",
       "       -13, -14, -15, -14, -13, -12, -11, -10, -11, -10, -11, -10, -11,\n",
       "       -12, -13, -14, -15, -16, -15, -16, -15, -14, -15, -16, -15, -14,\n",
       "       -15, -16, -15, -16, -15, -16, -17, -16, -17, -18, -19, -18, -17,\n",
       "       -18, -19, -20, -19, -20, -19, -18, -19, -18, -19, -18, -17, -18,\n",
       "       -19, -18, -19, -18, -19, -18, -19, -18, -19, -20, -19, -20, -19,\n",
       "       -20, -21, -20, -19, -18, -17, -16, -15, -14, -13, -14, -13, -12,\n",
       "       -13, -14, -13, -14, -15, -16, -17, -16, -17, -18, -17, -18, -17,\n",
       "       -16, -15, -16, -15, -14, -15, -14, -15, -14, -15, -16, -17, -16,\n",
       "       -15, -16, -17, -16, -17, -18, -17, -16, -15, -14, -15, -14, -13,\n",
       "       -14, -15, -16, -15, -14, -15, -14, -15, -16, -17, -16, -17, -16,\n",
       "       -17, -16, -15, -16, -17, -18, -17, -16, -15, -14, -15, -14, -13,\n",
       "       -14, -15, -14, -13, -12, -11, -10, -11, -10,  -9, -10,  -9,  -8,\n",
       "        -7,  -8,  -9,  -8,  -7,  -8,  -9, -10, -11, -12, -11, -12, -11,\n",
       "       -10, -11, -10,  -9, -10, -11, -10,  -9,  -8,  -9, -10,  -9,  -8,\n",
       "        -9, -10,  -9,  -8,  -7,  -8,  -7,  -6,  -7,  -6,  -5,  -4,  -5,\n",
       "        -6,  -5,  -6,  -7,  -8,  -7,  -8,  -7,  -6,  -5,  -6,  -7,  -8,\n",
       "        -9,  -8,  -7,  -8,  -7,  -6,  -5,  -4,  -3,  -4,  -3,  -4,  -3,\n",
       "        -4,  -3,  -2,  -1,  -2,  -3,  -4,  -5,  -6,  -7,  -6,  -7,  -8,\n",
       "        -9,  -8,  -7,  -6,  -5,  -6,  -5,  -6,  -5,  -6,  -5,  -4,  -5,\n",
       "        -6,  -5,  -4,  -3,  -2,  -3,  -4,  -3,  -4,  -5,  -4,  -3,  -4,\n",
       "        -3,  -2,  -1,  -2,  -1,   0,  -1,   0,  -1,  -2,  -1,   0,  -1,\n",
       "        -2,  -3,  -4,  -5,  -4,  -5,  -4,  -3,  -4,  -5,  -4,  -3,  -4,\n",
       "        -5,  -6,  -5,  -6,  -7,  -6,  -5,  -6,  -7,  -6,  -5,  -6,  -7,\n",
       "        -6,  -7,  -8,  -9,  -8,  -7,  -8,  -7,  -8,  -9,  -8,  -9,  -8,\n",
       "        -7,  -8,  -9, -10, -11, -12, -11, -10, -11, -10, -11, -10])"
      ]
     },
     "execution_count": 7,
     "metadata": {},
     "output_type": "execute_result"
    }
   ],
   "source": [
    "walk"
   ]
  },
  {
   "cell_type": "markdown",
   "metadata": {},
   "source": [
    "- walk의 최소값 "
   ]
  },
  {
   "cell_type": "code",
   "execution_count": 8,
   "metadata": {
    "colab": {
     "base_uri": "https://localhost:8080/"
    },
    "executionInfo": {
     "elapsed": 17,
     "status": "ok",
     "timestamp": 1634478397169,
     "user": {
      "displayName": "Jiwon Kim",
      "photoUrl": "https://lh3.googleusercontent.com/a/default-user=s64",
      "userId": "06389781311941488812"
     },
     "user_tz": -540
    },
    "id": "JJlJm5zucZNy",
    "outputId": "d77ec540-bae1-4ded-db0f-1ff4c8a92c98",
    "scrolled": true
   },
   "outputs": [
    {
     "data": {
      "text/plain": [
       "-36"
      ]
     },
     "execution_count": 8,
     "metadata": {},
     "output_type": "execute_result"
    }
   ],
   "source": [
    "np.min(walk)"
   ]
  },
  {
   "cell_type": "markdown",
   "metadata": {},
   "source": [
    "- walk의 최대값"
   ]
  },
  {
   "cell_type": "code",
   "execution_count": 9,
   "metadata": {
    "colab": {
     "base_uri": "https://localhost:8080/"
    },
    "executionInfo": {
     "elapsed": 15,
     "status": "ok",
     "timestamp": 1634478397170,
     "user": {
      "displayName": "Jiwon Kim",
      "photoUrl": "https://lh3.googleusercontent.com/a/default-user=s64",
      "userId": "06389781311941488812"
     },
     "user_tz": -540
    },
    "id": "Sk2ZagmdcZNz",
    "outputId": "3cc130d8-2cbc-46c9-af4f-9758580c2b0e"
   },
   "outputs": [
    {
     "data": {
      "text/plain": [
       "2"
      ]
     },
     "execution_count": 9,
     "metadata": {},
     "output_type": "execute_result"
    }
   ],
   "source": [
    "np.max(walk)"
   ]
  },
  {
   "cell_type": "markdown",
   "metadata": {
    "id": "oHxUOM3BfBrR"
   },
   "source": [
    "# 계단의 처음 위치에서 10칸(위, 아래) 이상 떨어진 지점 구하기"
   ]
  },
  {
   "cell_type": "markdown",
   "metadata": {},
   "source": [
    "- walk 배열의 음수를 양수로 변경(Hint:np.abs)"
   ]
  },
  {
   "cell_type": "code",
   "execution_count": 10,
   "metadata": {
    "colab": {
     "base_uri": "https://localhost:8080/"
    },
    "executionInfo": {
     "elapsed": 17,
     "status": "ok",
     "timestamp": 1634478397629,
     "user": {
      "displayName": "Jiwon Kim",
      "photoUrl": "https://lh3.googleusercontent.com/a/default-user=s64",
      "userId": "06389781311941488812"
     },
     "user_tz": -540
    },
    "id": "wq307lXkerPN",
    "outputId": "d69dbedd-6368-495c-b16c-64621423a528"
   },
   "outputs": [],
   "source": [
    "walk = np.abs(walk)"
   ]
  },
  {
   "cell_type": "code",
   "execution_count": 11,
   "metadata": {},
   "outputs": [
    {
     "data": {
      "text/plain": [
       "array([ 1,  2,  1,  0,  1,  0,  1,  0,  1,  0,  1,  2,  1,  2,  1,  0,  1,\n",
       "        2,  1,  0,  1,  0,  1,  2,  3,  4,  3,  4,  3,  2,  3,  4,  5,  4,\n",
       "        5,  6,  5,  4,  5,  6,  7,  8,  7,  6,  7,  8,  9, 10,  9,  8,  9,\n",
       "        8,  7,  8,  9, 10, 11, 10, 11, 12, 13, 14, 15, 14, 15, 14, 13, 14,\n",
       "       15, 14, 13, 12, 13, 14, 13, 14, 15, 16, 15, 16, 15, 16, 17, 16, 17,\n",
       "       18, 19, 20, 19, 18, 17, 16, 17, 18, 17, 18, 17, 18, 19, 20, 19, 18,\n",
       "       17, 18, 19, 18, 17, 18, 19, 18, 17, 18, 19, 20, 21, 20, 19, 20, 21,\n",
       "       22, 23, 22, 21, 22, 21, 22, 21, 22, 21, 22, 23, 24, 25, 24, 23, 22,\n",
       "       23, 22, 21, 22, 21, 20, 19, 18, 17, 18, 19, 18, 17, 16, 17, 16, 15,\n",
       "       14, 13, 14, 13, 12, 11, 12, 13, 14, 15, 14, 15, 14, 13, 14, 15, 14,\n",
       "       15, 14, 15, 16, 15, 14, 15, 16, 17, 16, 15, 16, 15, 16, 17, 18, 19,\n",
       "       18, 19, 20, 21, 20, 21, 20, 21, 22, 23, 22, 23, 24, 23, 24, 23, 22,\n",
       "       23, 22, 23, 24, 23, 24, 23, 22, 23, 24, 23, 22, 21, 22, 23, 22, 23,\n",
       "       24, 23, 22, 23, 22, 21, 22, 23, 24, 25, 26, 27, 26, 27, 28, 27, 26,\n",
       "       25, 24, 25, 24, 23, 22, 21, 20, 21, 22, 23, 24, 25, 26, 27, 26, 27,\n",
       "       28, 27, 26, 25, 24, 25, 26, 25, 24, 23, 22, 21, 22, 23, 24, 25, 26,\n",
       "       25, 24, 25, 26, 27, 28, 27, 26, 27, 28, 27, 26, 27, 26, 27, 28, 29,\n",
       "       28, 29, 28, 27, 26, 27, 28, 29, 30, 29, 30, 31, 30, 29, 30, 31, 32,\n",
       "       31, 30, 31, 32, 31, 32, 31, 30, 31, 30, 31, 30, 29, 30, 29, 30, 31,\n",
       "       32, 33, 32, 31, 32, 31, 32, 31, 30, 29, 30, 31, 30, 29, 28, 27, 28,\n",
       "       29, 30, 31, 30, 31, 30, 29, 28, 29, 28, 27, 28, 29, 30, 29, 30, 31,\n",
       "       32, 31, 30, 29, 28, 29, 28, 29, 30, 31, 32, 33, 32, 31, 30, 31, 30,\n",
       "       31, 32, 31, 30, 31, 30, 31, 32, 31, 32, 31, 30, 31, 30, 31, 32, 33,\n",
       "       32, 33, 34, 33, 32, 31, 32, 31, 30, 29, 30, 31, 30, 31, 30, 29, 30,\n",
       "       31, 30, 31, 30, 29, 30, 31, 32, 33, 32, 33, 34, 35, 36, 35, 34, 33,\n",
       "       32, 31, 32, 33, 32, 31, 30, 29, 30, 31, 30, 29, 28, 27, 26, 25, 26,\n",
       "       27, 28, 29, 30, 31, 30, 29, 28, 27, 28, 29, 28, 29, 28, 29, 28, 27,\n",
       "       26, 27, 26, 25, 26, 25, 24, 25, 24, 23, 24, 25, 24, 25, 24, 23, 24,\n",
       "       23, 24, 25, 26, 25, 26, 27, 28, 29, 30, 29, 28, 27, 26, 27, 26, 25,\n",
       "       26, 25, 26, 27, 26, 25, 26, 25, 24, 25, 26, 27, 28, 29, 28, 29, 28,\n",
       "       27, 26, 27, 26, 27, 26, 25, 26, 27, 26, 25, 26, 27, 26, 27, 26, 25,\n",
       "       26, 25, 24, 25, 26, 25, 26, 25, 24, 25, 26, 25, 24, 23, 22, 21, 22,\n",
       "       21, 20, 21, 22, 23, 24, 25, 26, 25, 26, 25, 26, 25, 24, 23, 24, 23,\n",
       "       22, 23, 24, 23, 22, 21, 20, 19, 18, 19, 18, 19, 18, 19, 20, 19, 20,\n",
       "       21, 20, 21, 22, 21, 22, 23, 24, 25, 24, 25, 24, 23, 24, 23, 24, 23,\n",
       "       22, 21, 22, 21, 22, 23, 22, 21, 20, 21, 20, 21, 22, 21, 22, 23, 22,\n",
       "       21, 22, 23, 22, 21, 20, 19, 20, 19, 18, 17, 16, 17, 16, 15, 16, 15,\n",
       "       16, 15, 14, 15, 14, 15, 16, 15, 14, 13, 14, 13, 12, 13, 12, 13, 14,\n",
       "       15, 14, 13, 12, 11, 12, 13, 12, 13, 14, 13, 12, 13, 14, 13, 14, 13,\n",
       "       14, 13, 12, 11, 12, 11, 10, 11, 12, 13, 12, 13, 12, 13, 14, 15, 14,\n",
       "       13, 12, 11, 10, 11, 10, 11, 10, 11, 12, 13, 14, 15, 16, 15, 16, 15,\n",
       "       14, 15, 16, 15, 14, 15, 16, 15, 16, 15, 16, 17, 16, 17, 18, 19, 18,\n",
       "       17, 18, 19, 20, 19, 20, 19, 18, 19, 18, 19, 18, 17, 18, 19, 18, 19,\n",
       "       18, 19, 18, 19, 18, 19, 20, 19, 20, 19, 20, 21, 20, 19, 18, 17, 16,\n",
       "       15, 14, 13, 14, 13, 12, 13, 14, 13, 14, 15, 16, 17, 16, 17, 18, 17,\n",
       "       18, 17, 16, 15, 16, 15, 14, 15, 14, 15, 14, 15, 16, 17, 16, 15, 16,\n",
       "       17, 16, 17, 18, 17, 16, 15, 14, 15, 14, 13, 14, 15, 16, 15, 14, 15,\n",
       "       14, 15, 16, 17, 16, 17, 16, 17, 16, 15, 16, 17, 18, 17, 16, 15, 14,\n",
       "       15, 14, 13, 14, 15, 14, 13, 12, 11, 10, 11, 10,  9, 10,  9,  8,  7,\n",
       "        8,  9,  8,  7,  8,  9, 10, 11, 12, 11, 12, 11, 10, 11, 10,  9, 10,\n",
       "       11, 10,  9,  8,  9, 10,  9,  8,  9, 10,  9,  8,  7,  8,  7,  6,  7,\n",
       "        6,  5,  4,  5,  6,  5,  6,  7,  8,  7,  8,  7,  6,  5,  6,  7,  8,\n",
       "        9,  8,  7,  8,  7,  6,  5,  4,  3,  4,  3,  4,  3,  4,  3,  2,  1,\n",
       "        2,  3,  4,  5,  6,  7,  6,  7,  8,  9,  8,  7,  6,  5,  6,  5,  6,\n",
       "        5,  6,  5,  4,  5,  6,  5,  4,  3,  2,  3,  4,  3,  4,  5,  4,  3,\n",
       "        4,  3,  2,  1,  2,  1,  0,  1,  0,  1,  2,  1,  0,  1,  2,  3,  4,\n",
       "        5,  4,  5,  4,  3,  4,  5,  4,  3,  4,  5,  6,  5,  6,  7,  6,  5,\n",
       "        6,  7,  6,  5,  6,  7,  6,  7,  8,  9,  8,  7,  8,  7,  8,  9,  8,\n",
       "        9,  8,  7,  8,  9, 10, 11, 12, 11, 10, 11, 10, 11, 10])"
      ]
     },
     "execution_count": 11,
     "metadata": {},
     "output_type": "execute_result"
    }
   ],
   "source": [
    "walk"
   ]
  },
  {
   "cell_type": "markdown",
   "metadata": {},
   "source": [
    "- walk 배열의 값이 10 이상인 경우 True, 아닌 경우 False로 변경 "
   ]
  },
  {
   "cell_type": "code",
   "execution_count": 12,
   "metadata": {
    "colab": {
     "base_uri": "https://localhost:8080/"
    },
    "executionInfo": {
     "elapsed": 16,
     "status": "ok",
     "timestamp": 1634478397630,
     "user": {
      "displayName": "Jiwon Kim",
      "photoUrl": "https://lh3.googleusercontent.com/a/default-user=s64",
      "userId": "06389781311941488812"
     },
     "user_tz": -540
    },
    "id": "_WNF5BcvcZNz",
    "outputId": "8cc4d923-f4b2-40f0-87f5-4f77deb3acb2"
   },
   "outputs": [
    {
     "data": {
      "text/plain": [
       "array([False, False, False, False, False, False, False, False, False,\n",
       "       False, False, False, False, False, False, False, False, False,\n",
       "       False, False, False, False, False, False, False, False, False,\n",
       "       False, False, False, False, False, False, False, False, False,\n",
       "       False, False, False, False, False, False, False, False, False,\n",
       "       False, False,  True, False, False, False, False, False, False,\n",
       "       False,  True,  True,  True,  True,  True,  True,  True,  True,\n",
       "        True,  True,  True,  True,  True,  True,  True,  True,  True,\n",
       "        True,  True,  True,  True,  True,  True,  True,  True,  True,\n",
       "        True,  True,  True,  True,  True,  True,  True,  True,  True,\n",
       "        True,  True,  True,  True,  True,  True,  True,  True,  True,\n",
       "        True,  True,  True,  True,  True,  True,  True,  True,  True,\n",
       "        True,  True,  True,  True,  True,  True,  True,  True,  True,\n",
       "        True,  True,  True,  True,  True,  True,  True,  True,  True,\n",
       "        True,  True,  True,  True,  True,  True,  True,  True,  True,\n",
       "        True,  True,  True,  True,  True,  True,  True,  True,  True,\n",
       "        True,  True,  True,  True,  True,  True,  True,  True,  True,\n",
       "        True,  True,  True,  True,  True,  True,  True,  True,  True,\n",
       "        True,  True,  True,  True,  True,  True,  True,  True,  True,\n",
       "        True,  True,  True,  True,  True,  True,  True,  True,  True,\n",
       "        True,  True,  True,  True,  True,  True,  True,  True,  True,\n",
       "        True,  True,  True,  True,  True,  True,  True,  True,  True,\n",
       "        True,  True,  True,  True,  True,  True,  True,  True,  True,\n",
       "        True,  True,  True,  True,  True,  True,  True,  True,  True,\n",
       "        True,  True,  True,  True,  True,  True,  True,  True,  True,\n",
       "        True,  True,  True,  True,  True,  True,  True,  True,  True,\n",
       "        True,  True,  True,  True,  True,  True,  True,  True,  True,\n",
       "        True,  True,  True,  True,  True,  True,  True,  True,  True,\n",
       "        True,  True,  True,  True,  True,  True,  True,  True,  True,\n",
       "        True,  True,  True,  True,  True,  True,  True,  True,  True,\n",
       "        True,  True,  True,  True,  True,  True,  True,  True,  True,\n",
       "        True,  True,  True,  True,  True,  True,  True,  True,  True,\n",
       "        True,  True,  True,  True,  True,  True,  True,  True,  True,\n",
       "        True,  True,  True,  True,  True,  True,  True,  True,  True,\n",
       "        True,  True,  True,  True,  True,  True,  True,  True,  True,\n",
       "        True,  True,  True,  True,  True,  True,  True,  True,  True,\n",
       "        True,  True,  True,  True,  True,  True,  True,  True,  True,\n",
       "        True,  True,  True,  True,  True,  True,  True,  True,  True,\n",
       "        True,  True,  True,  True,  True,  True,  True,  True,  True,\n",
       "        True,  True,  True,  True,  True,  True,  True,  True,  True,\n",
       "        True,  True,  True,  True,  True,  True,  True,  True,  True,\n",
       "        True,  True,  True,  True,  True,  True,  True,  True,  True,\n",
       "        True,  True,  True,  True,  True,  True,  True,  True,  True,\n",
       "        True,  True,  True,  True,  True,  True,  True,  True,  True,\n",
       "        True,  True,  True,  True,  True,  True,  True,  True,  True,\n",
       "        True,  True,  True,  True,  True,  True,  True,  True,  True,\n",
       "        True,  True,  True,  True,  True,  True,  True,  True,  True,\n",
       "        True,  True,  True,  True,  True,  True,  True,  True,  True,\n",
       "        True,  True,  True,  True,  True,  True,  True,  True,  True,\n",
       "        True,  True,  True,  True,  True,  True,  True,  True,  True,\n",
       "        True,  True,  True,  True,  True,  True,  True,  True,  True,\n",
       "        True,  True,  True,  True,  True,  True,  True,  True,  True,\n",
       "        True,  True,  True,  True,  True,  True,  True,  True,  True,\n",
       "        True,  True,  True,  True,  True,  True,  True,  True,  True,\n",
       "        True,  True,  True,  True,  True,  True,  True,  True,  True,\n",
       "        True,  True,  True,  True,  True,  True,  True,  True,  True,\n",
       "        True,  True,  True,  True,  True,  True,  True,  True,  True,\n",
       "        True,  True,  True,  True,  True,  True,  True,  True,  True,\n",
       "        True,  True,  True,  True,  True,  True,  True,  True,  True,\n",
       "        True,  True,  True,  True,  True,  True,  True,  True,  True,\n",
       "        True,  True,  True,  True,  True,  True,  True,  True,  True,\n",
       "        True,  True,  True,  True,  True,  True,  True,  True,  True,\n",
       "        True,  True,  True,  True,  True,  True,  True,  True,  True,\n",
       "        True,  True,  True,  True,  True,  True,  True,  True,  True,\n",
       "        True,  True,  True,  True,  True,  True,  True,  True,  True,\n",
       "        True,  True,  True,  True,  True,  True,  True,  True,  True,\n",
       "        True,  True,  True,  True,  True,  True,  True,  True,  True,\n",
       "        True,  True,  True,  True,  True,  True,  True,  True,  True,\n",
       "        True,  True,  True,  True,  True,  True,  True,  True,  True,\n",
       "        True,  True,  True,  True,  True,  True,  True,  True,  True,\n",
       "        True,  True,  True,  True,  True,  True,  True,  True,  True,\n",
       "        True,  True,  True,  True,  True,  True,  True,  True,  True,\n",
       "        True,  True,  True,  True,  True,  True,  True,  True,  True,\n",
       "        True,  True,  True,  True,  True,  True,  True,  True,  True,\n",
       "        True,  True,  True,  True,  True,  True,  True,  True,  True,\n",
       "        True,  True,  True,  True,  True,  True,  True,  True,  True,\n",
       "        True,  True,  True,  True,  True,  True,  True,  True,  True,\n",
       "        True,  True,  True,  True,  True,  True,  True,  True,  True,\n",
       "        True,  True,  True,  True,  True,  True,  True,  True,  True,\n",
       "        True,  True,  True,  True,  True,  True,  True,  True,  True,\n",
       "        True,  True,  True,  True,  True,  True,  True,  True,  True,\n",
       "        True,  True,  True,  True,  True,  True,  True,  True,  True,\n",
       "        True,  True,  True,  True,  True,  True,  True,  True,  True,\n",
       "        True,  True,  True,  True,  True,  True,  True,  True,  True,\n",
       "        True,  True,  True,  True,  True,  True,  True,  True,  True,\n",
       "        True,  True,  True,  True,  True,  True,  True,  True,  True,\n",
       "        True,  True,  True,  True,  True,  True,  True,  True,  True,\n",
       "        True,  True,  True,  True,  True,  True,  True,  True,  True,\n",
       "        True,  True,  True,  True,  True,  True,  True,  True,  True,\n",
       "        True,  True,  True,  True,  True,  True,  True,  True,  True,\n",
       "        True,  True,  True,  True,  True,  True,  True,  True,  True,\n",
       "        True,  True,  True,  True,  True,  True,  True,  True,  True,\n",
       "       False,  True, False, False, False, False, False, False, False,\n",
       "       False, False,  True,  True,  True,  True,  True,  True,  True,\n",
       "        True,  True, False,  True,  True,  True, False, False, False,\n",
       "        True, False, False, False,  True, False, False, False, False,\n",
       "       False, False, False, False, False, False, False, False, False,\n",
       "       False, False, False, False, False, False, False, False, False,\n",
       "       False, False, False, False, False, False, False, False, False,\n",
       "       False, False, False, False, False, False, False, False, False,\n",
       "       False, False, False, False, False, False, False, False, False,\n",
       "       False, False, False, False, False, False, False, False, False,\n",
       "       False, False, False, False, False, False, False, False, False,\n",
       "       False, False, False, False, False, False, False, False, False,\n",
       "       False, False, False, False, False, False, False, False, False,\n",
       "       False, False, False, False, False, False, False, False, False,\n",
       "       False, False, False, False, False, False, False, False, False,\n",
       "       False, False, False, False, False, False, False, False, False,\n",
       "       False, False, False, False, False, False, False, False, False,\n",
       "       False, False, False, False, False, False, False, False, False,\n",
       "       False,  True,  True,  True,  True,  True,  True,  True,  True,\n",
       "        True])"
      ]
     },
     "execution_count": 12,
     "metadata": {},
     "output_type": "execute_result"
    }
   ],
   "source": [
    "np.where(walk >= 10, True, False)"
   ]
  },
  {
   "cell_type": "markdown",
   "metadata": {},
   "source": [
    "- argmax 함수를 이용해 최댓값을 조회 -> 중복값이 존재한다면 첫번째 인덱스를 반환"
   ]
  },
  {
   "cell_type": "code",
   "execution_count": 14,
   "metadata": {
    "colab": {
     "base_uri": "https://localhost:8080/"
    },
    "executionInfo": {
     "elapsed": 14,
     "status": "ok",
     "timestamp": 1634478397631,
     "user": {
      "displayName": "Jiwon Kim",
      "photoUrl": "https://lh3.googleusercontent.com/a/default-user=s64",
      "userId": "06389781311941488812"
     },
     "user_tz": -540
    },
    "id": "9Q2RqAJfcZN0",
    "outputId": "1e7d56df-8233-4793-c359-af96fc008ba1"
   },
   "outputs": [
    {
     "data": {
      "text/plain": [
       "421"
      ]
     },
     "execution_count": 14,
     "metadata": {},
     "output_type": "execute_result"
    }
   ],
   "source": [
    "np.argmax(walk)"
   ]
  },
  {
   "cell_type": "code",
   "execution_count": 17,
   "metadata": {},
   "outputs": [
    {
     "data": {
      "text/plain": [
       "36"
      ]
     },
     "execution_count": 17,
     "metadata": {},
     "output_type": "execute_result"
    }
   ],
   "source": [
    "walk[walk.argmax()]"
   ]
  },
  {
   "cell_type": "code",
   "execution_count": 16,
   "metadata": {},
   "outputs": [
    {
     "data": {
      "text/plain": [
       "[<matplotlib.lines.Line2D at 0x7f30b7b18da0>]"
      ]
     },
     "execution_count": 16,
     "metadata": {},
     "output_type": "execute_result"
    },
    {
     "data": {
      "image/png": "[encoded data removed]",
      "text/plain": [
       "<Figure size 432x288 with 1 Axes>"
      ]
     },
     "metadata": {
      "needs_background": "light"
     },
     "output_type": "display_data"
    }
   ],
   "source": [
    "# 데이터 시각화\n",
    "\n",
    "import matplotlib.pyplot as plt\n",
    "plt.plot(walk)"
   ]
  },
  {
   "cell_type": "code",
   "execution_count": 18,
   "metadata": {},
   "outputs": [],
   "source": [
    "walk.argmax?"
   ]
  },
  {
   "cell_type": "code",
   "execution_count": null,
   "metadata": {},
   "outputs": [],
   "source": []
  }
 ],
 "metadata": {
  "colab": {
   "collapsed_sections": [],
   "name": "DAY3_WS-S(Step).ipynb",
   "provenance": []
  },
  "kernelspec": {
   "display_name": "Python 3",
   "language": "python",
   "name": "python3"
  },
  "language_info": {
   "codemirror_mode": {
    "name": "ipython",
    "version": 3
   },
   "file_extension": ".py",
   "mimetype": "text/x-python",
   "name": "python",
   "nbconvert_exporter": "python",
   "pygments_lexer": "ipython3",
   "version": "3.6.6"
  }
 },
 "nbformat": 4,
 "nbformat_minor": 1
}
