{
 "cells": [
  {
   "cell_type": "markdown",
   "metadata": {},
   "source": [
    "# 필수 패키지 설치 및 로드"
   ]
  },
  {
   "cell_type": "code",
   "execution_count": 1,
   "metadata": {},
   "outputs": [
    {
     "name": "stdout",
     "output_type": "stream",
     "text": [
      "Collecting mySUNI\n",
      "  Downloading mySUNI-1.2.3-py3-none-any.whl (21 kB)\n",
      "Collecting tqdm\n",
      "  Downloading tqdm-4.62.3-py2.py3-none-any.whl (76 kB)\n",
      "\u001b[K     |████████████████████████████████| 76 kB 2.0 MB/s eta 0:00:01\n",
      "\u001b[?25hInstalling collected packages: tqdm, mySUNI\n",
      "Successfully installed mySUNI-1.2.3 tqdm-4.62.3\n",
      "\u001b[33mWARNING: You are using pip version 21.1.1; however, version 21.3.1 is available.\n",
      "You should consider upgrading via the '/opt/conda/bin/python -m pip install --upgrade pip' command.\u001b[0m\n"
     ]
    }
   ],
   "source": [
    "!pip install --upgrade mySUNI"
   ]
  },
  {
   "cell_type": "code",
   "execution_count": 5,
   "metadata": {},
   "outputs": [],
   "source": [
    "import numpy as np\n",
    "import pandas as pd \n",
    "import matplotlib.pyplot as plt\n",
    "import seaborn as sns \n",
    "\n",
    "from mySUNI import cds"
   ]
  },
  {
   "cell_type": "markdown",
   "metadata": {},
   "source": [
    "# 데이터 다운로드"
   ]
  },
  {
   "cell_type": "code",
   "execution_count": 6,
   "metadata": {},
   "outputs": [
    {
     "data": {
      "text/html": [
       "<div>\n",
       "<style scoped>\n",
       "    .dataframe tbody tr th:only-of-type {\n",
       "        vertical-align: middle;\n",
       "    }\n",
       "\n",
       "    .dataframe tbody tr th {\n",
       "        vertical-align: top;\n",
       "    }\n",
       "\n",
       "    .dataframe thead th {\n",
       "        text-align: right;\n",
       "    }\n",
       "</style>\n",
       "<table border=\"1\" class=\"dataframe\">\n",
       "  <thead>\n",
       "    <tr style=\"text-align: right;\">\n",
       "      <th></th>\n",
       "      <th>name</th>\n",
       "      <th>info</th>\n",
       "      <th>filename</th>\n",
       "    </tr>\n",
       "  </thead>\n",
       "  <tbody>\n",
       "    <tr>\n",
       "      <th>0</th>\n",
       "      <td>서울시자전거</td>\n",
       "      <td>서울시 따릉이 자전거 대여량 정보</td>\n",
       "      <td>[seoul_bicycle.csv]</td>\n",
       "    </tr>\n",
       "    <tr>\n",
       "      <th>1</th>\n",
       "      <td>서울시대중교통</td>\n",
       "      <td>서울시 대중교통(지하철, 버스) 이용객 정보</td>\n",
       "      <td>[seoul_transportation.xlsx]</td>\n",
       "    </tr>\n",
       "    <tr>\n",
       "      <th>2</th>\n",
       "      <td>서울시주민등록인구</td>\n",
       "      <td>서울시 주민등록인구 정보</td>\n",
       "      <td>[seoul_population.csv]</td>\n",
       "    </tr>\n",
       "    <tr>\n",
       "      <th>3</th>\n",
       "      <td>유가정보</td>\n",
       "      <td>2019년 서울시 유가 정보</td>\n",
       "      <td>[gas_first_2019.csv, gas_second_2019.csv]</td>\n",
       "    </tr>\n",
       "    <tr>\n",
       "      <th>4</th>\n",
       "      <td>PandasFileIO</td>\n",
       "      <td>Pandas File I/O 연습 문제용 데이터셋</td>\n",
       "      <td>[mySUNI.xlsx, mySUNI_1.csv, mySUNI_2.csv, mySU...</td>\n",
       "    </tr>\n",
       "    <tr>\n",
       "      <th>5</th>\n",
       "      <td>CCTV데이터분석</td>\n",
       "      <td>mySUNI WorkShop - CCTV 데이터 분석</td>\n",
       "      <td>[01. CCTV_in_Seoul.csv, 01. population_in_Seou...</td>\n",
       "    </tr>\n",
       "    <tr>\n",
       "      <th>6</th>\n",
       "      <td>국민연금데이터분석</td>\n",
       "      <td>mySUNI WorkShop - 국민연금 데이터 분석</td>\n",
       "      <td>[national_pension.csv]</td>\n",
       "    </tr>\n",
       "    <tr>\n",
       "      <th>7</th>\n",
       "      <td>민간아파트가격동향분석</td>\n",
       "      <td>mySUNI WorkShop - 민간 아파트 가격 동향 분석</td>\n",
       "      <td>[seoul_house_price.csv]</td>\n",
       "    </tr>\n",
       "    <tr>\n",
       "      <th>8</th>\n",
       "      <td>실거래가분석</td>\n",
       "      <td>mySUNI WorkShop - 2020년 아파트 실거래가 분석</td>\n",
       "      <td>[2020-seoul-apt-price.csv, loc_code.xlsx]</td>\n",
       "    </tr>\n",
       "    <tr>\n",
       "      <th>9</th>\n",
       "      <td>유가가격분석</td>\n",
       "      <td>mySUNI WorkShop - 2020년 유가 가격 분석</td>\n",
       "      <td>[gas_first_2019.csv, gas_second_2019.csv]</td>\n",
       "    </tr>\n",
       "    <tr>\n",
       "      <th>10</th>\n",
       "      <td>중고차판매정보분석</td>\n",
       "      <td>mySUNI WorkShop - 중고차 판매 정보 분석</td>\n",
       "      <td>[vehicles.csv]</td>\n",
       "    </tr>\n",
       "    <tr>\n",
       "      <th>11</th>\n",
       "      <td>신용정보</td>\n",
       "      <td>사용자의 신용카드 대금 연체를 기준의 신용도</td>\n",
       "      <td>[credit-data.csv]</td>\n",
       "    </tr>\n",
       "    <tr>\n",
       "      <th>12</th>\n",
       "      <td>전국신규분양가</td>\n",
       "      <td>주택도시보증공사 전국 신규 민간 아파트 분양가격 정보</td>\n",
       "      <td>[house-price.csv]</td>\n",
       "    </tr>\n",
       "    <tr>\n",
       "      <th>13</th>\n",
       "      <td>에너지 효율</td>\n",
       "      <td>난방부하 및 냉방부하 요구사항(에너지 효율)을 평가</td>\n",
       "      <td>[ENB2012_data.xlsx]</td>\n",
       "    </tr>\n",
       "    <tr>\n",
       "      <th>14</th>\n",
       "      <td>보스턴집값</td>\n",
       "      <td>보스턴 지역 집값 데이터 세트</td>\n",
       "      <td>[boston.csv]</td>\n",
       "    </tr>\n",
       "    <tr>\n",
       "      <th>15</th>\n",
       "      <td>와인유형분류</td>\n",
       "      <td>와인 유형(red, white) 분류를 위한 와인 품질 데이터 세트</td>\n",
       "      <td>[red_wine.csv, white_wine.csv]</td>\n",
       "    </tr>\n",
       "    <tr>\n",
       "      <th>16</th>\n",
       "      <td>사용자이탈예측</td>\n",
       "      <td>사용자 이탈 예측</td>\n",
       "      <td>[class.csv, event.csv, logs.csv, user_info.csv]</td>\n",
       "    </tr>\n",
       "  </tbody>\n",
       "</table>\n",
       "</div>"
      ],
      "text/plain": [
       "            name                                   info  \\\n",
       "0         서울시자전거                     서울시 따릉이 자전거 대여량 정보   \n",
       "1        서울시대중교통               서울시 대중교통(지하철, 버스) 이용객 정보   \n",
       "2      서울시주민등록인구                          서울시 주민등록인구 정보   \n",
       "3           유가정보                        2019년 서울시 유가 정보   \n",
       "4   PandasFileIO            Pandas File I/O 연습 문제용 데이터셋   \n",
       "5      CCTV데이터분석          mySUNI WorkShop - CCTV 데이터 분석   \n",
       "6      국민연금데이터분석          mySUNI WorkShop - 국민연금 데이터 분석   \n",
       "7    민간아파트가격동향분석      mySUNI WorkShop - 민간 아파트 가격 동향 분석   \n",
       "8         실거래가분석    mySUNI WorkShop - 2020년 아파트 실거래가 분석   \n",
       "9         유가가격분석       mySUNI WorkShop - 2020년 유가 가격 분석   \n",
       "10     중고차판매정보분석         mySUNI WorkShop - 중고차 판매 정보 분석   \n",
       "11          신용정보               사용자의 신용카드 대금 연체를 기준의 신용도   \n",
       "12       전국신규분양가          주택도시보증공사 전국 신규 민간 아파트 분양가격 정보   \n",
       "13        에너지 효율           난방부하 및 냉방부하 요구사항(에너지 효율)을 평가   \n",
       "14         보스턴집값                       보스턴 지역 집값 데이터 세트   \n",
       "15        와인유형분류  와인 유형(red, white) 분류를 위한 와인 품질 데이터 세트   \n",
       "16       사용자이탈예측                              사용자 이탈 예측   \n",
       "\n",
       "                                             filename  \n",
       "0                                 [seoul_bicycle.csv]  \n",
       "1                         [seoul_transportation.xlsx]  \n",
       "2                              [seoul_population.csv]  \n",
       "3           [gas_first_2019.csv, gas_second_2019.csv]  \n",
       "4   [mySUNI.xlsx, mySUNI_1.csv, mySUNI_2.csv, mySU...  \n",
       "5   [01. CCTV_in_Seoul.csv, 01. population_in_Seou...  \n",
       "6                              [national_pension.csv]  \n",
       "7                             [seoul_house_price.csv]  \n",
       "8           [2020-seoul-apt-price.csv, loc_code.xlsx]  \n",
       "9           [gas_first_2019.csv, gas_second_2019.csv]  \n",
       "10                                     [vehicles.csv]  \n",
       "11                                  [credit-data.csv]  \n",
       "12                                  [house-price.csv]  \n",
       "13                                [ENB2012_data.xlsx]  \n",
       "14                                       [boston.csv]  \n",
       "15                     [red_wine.csv, white_wine.csv]  \n",
       "16    [class.csv, event.csv, logs.csv, user_info.csv]  "
      ]
     },
     "metadata": {},
     "output_type": "display_data"
    }
   ],
   "source": [
    "cds.list_data()"
   ]
  },
  {
   "cell_type": "code",
   "execution_count": 7,
   "metadata": {},
   "outputs": [
    {
     "name": "stdout",
     "output_type": "stream",
     "text": [
      "파일 다운로드 완료\n",
      "====================\n",
      "\n",
      "데이터셋: 와인유형분류\n",
      "파일경로: data/red_wine.csv\n",
      "\n",
      "====================\n",
      "파일 다운로드 완료\n",
      "====================\n",
      "\n",
      "데이터셋: 와인유형분류\n",
      "파일경로: data/white_wine.csv\n",
      "\n",
      "====================\n"
     ]
    }
   ],
   "source": [
    "cds.download_data('와인유형분류')"
   ]
  },
  {
   "cell_type": "markdown",
   "metadata": {},
   "source": [
    "# 데이터 읽기 및 조회\n",
    "\n",
    "- data 디렉토리에 있는 red_wine 데이터 읽어오기 (구분자 ; 입니다)\n",
    "\n",
    "- 상위 5개 샘플(행) 조회 "
   ]
  },
  {
   "cell_type": "code",
   "execution_count": 1,
   "metadata": {},
   "outputs": [],
   "source": [
    "# 코드 입력\n"
   ]
  },
  {
   "cell_type": "code",
   "execution_count": 2,
   "metadata": {},
   "outputs": [],
   "source": [
    "# 코드 입력\n"
   ]
  },
  {
   "cell_type": "markdown",
   "metadata": {},
   "source": [
    "- red_wine 데이터 프레임에 'red' 값을 가지는 type 컬럼을 추가하시오 "
   ]
  },
  {
   "cell_type": "code",
   "execution_count": null,
   "metadata": {},
   "outputs": [],
   "source": [
    "# 코드 입력\n"
   ]
  },
  {
   "cell_type": "code",
   "execution_count": null,
   "metadata": {},
   "outputs": [],
   "source": [
    "# 코드 입력\n"
   ]
  },
  {
   "cell_type": "markdown",
   "metadata": {},
   "source": [
    "- white_wine 데이터 프레임에 'white' 값을 가지는 type 컬럼을 추가하시오 "
   ]
  },
  {
   "cell_type": "code",
   "execution_count": null,
   "metadata": {},
   "outputs": [],
   "source": [
    "# 코드 입력\n"
   ]
  },
  {
   "cell_type": "code",
   "execution_count": null,
   "metadata": {},
   "outputs": [],
   "source": [
    "# 코드 입력\n"
   ]
  },
  {
   "cell_type": "markdown",
   "metadata": {},
   "source": [
    "- red_wine와 white_wine 데이터 프레임을 결합하시오.\n",
    "    - `concat()` 활용하세요.\n",
    "    - 데이터 프레임 결합시 인덱스를 무시하거나 결합 후 인덱스를 초기화 하세요"
   ]
  },
  {
   "cell_type": "code",
   "execution_count": 17,
   "metadata": {},
   "outputs": [],
   "source": [
    "\n",
    "wine = pd.concat()"
   ]
  },
  {
   "cell_type": "markdown",
   "metadata": {},
   "source": [
    "- 데이터 컬럼 이름을 변경하세요\n",
    "    - ['산도', '황', '신선함', '단 맛', '짠 맛', '황 화합물1', '항 화합물2', '무게감', '신 맛', '황 화합물3',\n",
    "    '알코올', '품질', '유형']"
   ]
  },
  {
   "cell_type": "code",
   "execution_count": 3,
   "metadata": {},
   "outputs": [],
   "source": [
    "# "
   ]
  },
  {
   "cell_type": "markdown",
   "metadata": {},
   "source": [
    "- X와 Y를 분리하세요.\n",
    "    - X : 유형을 제외한 나머지 컬럼\n",
    "    - Y : 유형 컬럼"
   ]
  },
  {
   "cell_type": "code",
   "execution_count": null,
   "metadata": {},
   "outputs": [],
   "source": []
  },
  {
   "cell_type": "markdown",
   "metadata": {},
   "source": [
    "- 분리된 X, Y를 이용하여 Train 과 Test 로 분할하세요.\n",
    "    - 7:3 비율로 분리하세요"
   ]
  },
  {
   "cell_type": "code",
   "execution_count": null,
   "metadata": {},
   "outputs": [],
   "source": []
  },
  {
   "cell_type": "markdown",
   "metadata": {},
   "source": [
    "- K-NN 모델을 이용하여 학습 후 결과를 출력하세요\n",
    "    - K는 5를 설정합니다"
   ]
  },
  {
   "cell_type": "code",
   "execution_count": null,
   "metadata": {},
   "outputs": [],
   "source": []
  },
  {
   "cell_type": "markdown",
   "metadata": {},
   "source": [
    "- Logisitc Regression 모델을 이용하여 학습 후 결과를 출력하세요 \n",
    "    - max_iter을 100000 으로 설정합니다"
   ]
  },
  {
   "cell_type": "code",
   "execution_count": null,
   "metadata": {},
   "outputs": [],
   "source": []
  },
  {
   "cell_type": "markdown",
   "metadata": {},
   "source": [
    "- Decision Tree를 이용하여 학습 후 결과를 출력하세요\n",
    "    - max_depth는 5로 설정합니다"
   ]
  },
  {
   "cell_type": "code",
   "execution_count": null,
   "metadata": {},
   "outputs": [],
   "source": []
  },
  {
   "cell_type": "markdown",
   "metadata": {},
   "source": [
    "- 데이터를 최소 최대 정규화 변환을 적용하세요 "
   ]
  },
  {
   "cell_type": "code",
   "execution_count": null,
   "metadata": {},
   "outputs": [],
   "source": []
  },
  {
   "cell_type": "markdown",
   "metadata": {},
   "source": [
    "- 최소 최대 정규화가 적용된 데이터를 이용하여 Train, Test로 분할하세요\n",
    "    - 7:3 비율로 분할하세요 "
   ]
  },
  {
   "cell_type": "code",
   "execution_count": null,
   "metadata": {},
   "outputs": [],
   "source": []
  },
  {
   "cell_type": "markdown",
   "metadata": {},
   "source": [
    "- K-NN 모델을 이용하여 학습 후 결과를 출력하세요\n",
    "    - K는 5를 설정합니다"
   ]
  },
  {
   "cell_type": "code",
   "execution_count": null,
   "metadata": {},
   "outputs": [],
   "source": []
  },
  {
   "cell_type": "markdown",
   "metadata": {},
   "source": [
    "- Logisitc Regression 모델을 이용하여 학습 후 결과를 출력하세요 \n",
    "    - max_iter을 100000 으로 설정합니다"
   ]
  },
  {
   "cell_type": "code",
   "execution_count": null,
   "metadata": {},
   "outputs": [],
   "source": []
  },
  {
   "cell_type": "markdown",
   "metadata": {},
   "source": [
    "- Decision Tree를 이용하여 학습 후 결과를 출력하세요\n",
    "    - max_depth는 5로 설정합니다"
   ]
  },
  {
   "cell_type": "code",
   "execution_count": null,
   "metadata": {},
   "outputs": [],
   "source": []
  },
  {
   "cell_type": "markdown",
   "metadata": {},
   "source": [
    "#### >>> 거리기반, 선형알고리즘은 스케일에 민감. 스케일 이휴 성능 향상되는지 확인 필요"
   ]
  },
  {
   "cell_type": "code",
   "execution_count": null,
   "metadata": {},
   "outputs": [],
   "source": []
  }
 ],
 "metadata": {
  "kernelspec": {
   "display_name": "Python 3",
   "language": "python",
   "name": "python3"
  },
  "language_info": {
   "codemirror_mode": {
    "name": "ipython",
    "version": 3
   },
   "file_extension": ".py",
   "mimetype": "text/x-python",
   "name": "python",
   "nbconvert_exporter": "python",
   "pygments_lexer": "ipython3",
   "version": "3.6.6"
  }
 },
 "nbformat": 4,
 "nbformat_minor": 2
}
